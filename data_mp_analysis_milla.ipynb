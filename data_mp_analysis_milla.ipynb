{
 "cells": [
  {
   "cell_type": "code",
   "execution_count": 1,
   "metadata": {},
   "outputs": [
    {
     "data": {
      "text/plain": [
       "'/dhh19/home/brexit/work/jupyter'"
      ]
     },
     "execution_count": 1,
     "metadata": {},
     "output_type": "execute_result"
    }
   ],
   "source": [
    "import pandas as pd\n",
    "import os\n",
    "import matplotlib.pyplot as plt\n",
    "os.getcwd()"
   ]
  },
  {
   "cell_type": "markdown",
   "metadata": {},
   "source": [
    "## Download tweets and twitter accounts of member of parliament"
   ]
  },
  {
   "cell_type": "code",
   "execution_count": 2,
   "metadata": {},
   "outputs": [],
   "source": [
    "#tweets_all = pd.read_msgpack(\"../../data/continuous_rehydrated/all_tweets_df.msg\")\n",
    "#tweets_all = pickled = pd.read_pickle(\"pickled_tweets.pkl\")\n",
    "tweets_all = pickled = pd.read_pickle(\"../../data/continuous_rehydrated/interim_data/pickled_tweets.pkl\")"
   ]
  },
  {
   "cell_type": "code",
   "execution_count": 3,
   "metadata": {},
   "outputs": [
    {
     "data": {
      "text/plain": [
       "(3941653, 39)"
      ]
     },
     "execution_count": 3,
     "metadata": {},
     "output_type": "execute_result"
    }
   ],
   "source": [
    "tweets_all.insert(4, 'date', tweets_all['parsed_created_at'].dt.date)\n",
    "tweets_all.insert(5, 'time', tweets_all['parsed_created_at'].dt.time)\n",
    "tweets_all.shape"
   ]
  },
  {
   "cell_type": "code",
   "execution_count": 4,
   "metadata": {},
   "outputs": [
    {
     "data": {
      "text/plain": [
       "Index(['id', 'tweet_url', 'created_at', 'parsed_created_at', 'date', 'time',\n",
       "       'user_screen_name', 'text', 'tweet_type', 'coordinates', 'place',\n",
       "       'hashtags', 'media', 'urls', 'favorite_count',\n",
       "       'in_reply_to_screen_name', 'in_reply_to_status_id',\n",
       "       'in_reply_to_user_id', 'lang', 'possibly_sensitive', 'retweet_count',\n",
       "       'retweet_or_quote_id', 'retweet_or_quote_screen_name',\n",
       "       'retweet_or_quote_user_id', 'source', 'user_id', 'user_created_at',\n",
       "       'user_default_profile_image', 'user_description',\n",
       "       'user_favourites_count', 'user_followers_count', 'user_friends_count',\n",
       "       'user_listed_count', 'user_location', 'user_name',\n",
       "       'user_statuses_count', 'user_time_zone', 'user_urls', 'user_verified'],\n",
       "      dtype='object')"
      ]
     },
     "execution_count": 4,
     "metadata": {},
     "output_type": "execute_result"
    }
   ],
   "source": [
    "tweets_all.columns"
   ]
  },
  {
   "cell_type": "code",
   "execution_count": 5,
   "metadata": {},
   "outputs": [],
   "source": [
    "# download list of mps\n",
    "mps = pd.read_csv(\"completed_mp_twitter_data.csv\")\n",
    "mps.columns\n",
    "mps = mps[[\"name\", \"party\", \"screen_name\", \"gender\"]]"
   ]
  },
  {
   "cell_type": "code",
   "execution_count": 6,
   "metadata": {},
   "outputs": [
    {
     "data": {
      "text/plain": [
       "Conservative               243\n",
       "Labour                     187\n",
       "Labour/Co-operative         28\n",
       "Scottish National Party     28\n",
       "Independent                 17\n",
       "Liberal Democrat            11\n",
       "DUP                          7\n",
       "Sinn Féin                    6\n",
       "Plaid Cymru                  3\n",
       "Green                        1\n",
       "Name: party, dtype: int64"
      ]
     },
     "execution_count": 6,
     "metadata": {},
     "output_type": "execute_result"
    }
   ],
   "source": [
    "mps.party.value_counts()"
   ]
  },
  {
   "cell_type": "markdown",
   "metadata": {},
   "source": [
    "### Filter tweets by MPs"
   ]
  },
  {
   "cell_type": "code",
   "execution_count": 7,
   "metadata": {},
   "outputs": [
    {
     "data": {
      "text/html": [
       "<div>\n",
       "<style scoped>\n",
       "    .dataframe tbody tr th:only-of-type {\n",
       "        vertical-align: middle;\n",
       "    }\n",
       "\n",
       "    .dataframe tbody tr th {\n",
       "        vertical-align: top;\n",
       "    }\n",
       "\n",
       "    .dataframe thead th {\n",
       "        text-align: right;\n",
       "    }\n",
       "</style>\n",
       "<table border=\"1\" class=\"dataframe\">\n",
       "  <thead>\n",
       "    <tr style=\"text-align: right;\">\n",
       "      <th></th>\n",
       "      <th>id</th>\n",
       "      <th>tweet_url</th>\n",
       "      <th>created_at</th>\n",
       "      <th>parsed_created_at</th>\n",
       "      <th>date</th>\n",
       "      <th>time</th>\n",
       "      <th>user_screen_name</th>\n",
       "      <th>text</th>\n",
       "      <th>tweet_type</th>\n",
       "      <th>coordinates</th>\n",
       "      <th>...</th>\n",
       "      <th>user_favourites_count</th>\n",
       "      <th>user_followers_count</th>\n",
       "      <th>user_friends_count</th>\n",
       "      <th>user_listed_count</th>\n",
       "      <th>user_location</th>\n",
       "      <th>user_name</th>\n",
       "      <th>user_statuses_count</th>\n",
       "      <th>user_time_zone</th>\n",
       "      <th>user_urls</th>\n",
       "      <th>user_verified</th>\n",
       "    </tr>\n",
       "  </thead>\n",
       "  <tbody>\n",
       "    <tr>\n",
       "      <th>39</th>\n",
       "      <td>1113445121339604993</td>\n",
       "      <td>https://twitter.com/thomasbrake/status/1113445...</td>\n",
       "      <td>Wed Apr 03 14:16:18 +0000 2019</td>\n",
       "      <td>2019-04-03 14:16:18+00:00</td>\n",
       "      <td>2019-04-03</td>\n",
       "      <td>14:16:18</td>\n",
       "      <td>thomasbrake</td>\n",
       "      <td>Circulating this today. \\n\\nA 50% drop in Mini...</td>\n",
       "      <td>original</td>\n",
       "      <td>NaN</td>\n",
       "      <td>...</td>\n",
       "      <td>1141</td>\n",
       "      <td>66937</td>\n",
       "      <td>42765</td>\n",
       "      <td>1074</td>\n",
       "      <td>Wallington</td>\n",
       "      <td>Tom Brake MP 🔶</td>\n",
       "      <td>25452</td>\n",
       "      <td>NaN</td>\n",
       "      <td>http://www.tombrake.co.uk</td>\n",
       "      <td>True</td>\n",
       "    </tr>\n",
       "    <tr>\n",
       "      <th>735</th>\n",
       "      <td>1113443515655172096</td>\n",
       "      <td>https://twitter.com/Anna_Soubry/status/1113443...</td>\n",
       "      <td>Wed Apr 03 14:09:55 +0000 2019</td>\n",
       "      <td>2019-04-03 14:09:55+00:00</td>\n",
       "      <td>2019-04-03</td>\n",
       "      <td>14:09:55</td>\n",
       "      <td>Anna_Soubry</td>\n",
       "      <td>May is sinking &amp;amp; trying to drag Corbyn dow...</td>\n",
       "      <td>retweet</td>\n",
       "      <td>NaN</td>\n",
       "      <td>...</td>\n",
       "      <td>8626</td>\n",
       "      <td>175504</td>\n",
       "      <td>648</td>\n",
       "      <td>1449</td>\n",
       "      <td>Broxtowe, Nottinghamshire</td>\n",
       "      <td>Anna Soubry MP</td>\n",
       "      <td>13129</td>\n",
       "      <td>NaN</td>\n",
       "      <td>http://annasoubry.org.uk</td>\n",
       "      <td>True</td>\n",
       "    </tr>\n",
       "    <tr>\n",
       "      <th>1138</th>\n",
       "      <td>1113442622163628032</td>\n",
       "      <td>https://twitter.com/GradySNP/status/1113442622...</td>\n",
       "      <td>Wed Apr 03 14:06:22 +0000 2019</td>\n",
       "      <td>2019-04-03 14:06:22+00:00</td>\n",
       "      <td>2019-04-03</td>\n",
       "      <td>14:06:22</td>\n",
       "      <td>GradySNP</td>\n",
       "      <td>The Scottish Parliament and Welsh Assembly hav...</td>\n",
       "      <td>original</td>\n",
       "      <td>NaN</td>\n",
       "      <td>...</td>\n",
       "      <td>7083</td>\n",
       "      <td>13479</td>\n",
       "      <td>3995</td>\n",
       "      <td>329</td>\n",
       "      <td>Glasgow North</td>\n",
       "      <td>Patrick Grady MP</td>\n",
       "      <td>5637</td>\n",
       "      <td>NaN</td>\n",
       "      <td>http://www.patrickgrady.scot</td>\n",
       "      <td>True</td>\n",
       "    </tr>\n",
       "    <tr>\n",
       "      <th>1716</th>\n",
       "      <td>1113441329734979586</td>\n",
       "      <td>https://twitter.com/MikeGapes/status/111344132...</td>\n",
       "      <td>Wed Apr 03 14:01:14 +0000 2019</td>\n",
       "      <td>2019-04-03 14:01:14+00:00</td>\n",
       "      <td>2019-04-03</td>\n",
       "      <td>14:01:14</td>\n",
       "      <td>MikeGapes</td>\n",
       "      <td>Full statement by President ⁦@JunckerEU⁩ on Un...</td>\n",
       "      <td>retweet</td>\n",
       "      <td>NaN</td>\n",
       "      <td>...</td>\n",
       "      <td>21073</td>\n",
       "      <td>40373</td>\n",
       "      <td>1113</td>\n",
       "      <td>847</td>\n",
       "      <td>Ilford, Essex, UK</td>\n",
       "      <td>Mike Gapes</td>\n",
       "      <td>82346</td>\n",
       "      <td>NaN</td>\n",
       "      <td>http://www.mikegapes.org.uk</td>\n",
       "      <td>True</td>\n",
       "    </tr>\n",
       "    <tr>\n",
       "      <th>1869</th>\n",
       "      <td>1113440799499476993</td>\n",
       "      <td>https://twitter.com/Valerie_VazMP/status/11134...</td>\n",
       "      <td>Wed Apr 03 13:59:07 +0000 2019</td>\n",
       "      <td>2019-04-03 13:59:07+00:00</td>\n",
       "      <td>2019-04-03</td>\n",
       "      <td>13:59:07</td>\n",
       "      <td>Valerie_VazMP</td>\n",
       "      <td>#WelshQuestions at 11:30am. Myself and my Labo...</td>\n",
       "      <td>retweet</td>\n",
       "      <td>NaN</td>\n",
       "      <td>...</td>\n",
       "      <td>108</td>\n",
       "      <td>4775</td>\n",
       "      <td>323</td>\n",
       "      <td>308</td>\n",
       "      <td>Walsall South</td>\n",
       "      <td>Valerie Vaz</td>\n",
       "      <td>3910</td>\n",
       "      <td>NaN</td>\n",
       "      <td>http://www.valerievaz.com</td>\n",
       "      <td>True</td>\n",
       "    </tr>\n",
       "    <tr>\n",
       "      <th>2231</th>\n",
       "      <td>1113440014019563520</td>\n",
       "      <td>https://twitter.com/thomasbrake/status/1113440...</td>\n",
       "      <td>Wed Apr 03 13:56:00 +0000 2019</td>\n",
       "      <td>2019-04-03 13:56:00+00:00</td>\n",
       "      <td>2019-04-03</td>\n",
       "      <td>13:56:00</td>\n",
       "      <td>thomasbrake</td>\n",
       "      <td>.@theresa_may said she’d like to heal the divi...</td>\n",
       "      <td>original</td>\n",
       "      <td>NaN</td>\n",
       "      <td>...</td>\n",
       "      <td>1141</td>\n",
       "      <td>66937</td>\n",
       "      <td>42765</td>\n",
       "      <td>1074</td>\n",
       "      <td>Wallington</td>\n",
       "      <td>Tom Brake MP 🔶</td>\n",
       "      <td>25452</td>\n",
       "      <td>NaN</td>\n",
       "      <td>http://www.tombrake.co.uk</td>\n",
       "      <td>True</td>\n",
       "    </tr>\n",
       "    <tr>\n",
       "      <th>2985</th>\n",
       "      <td>1113438482515537922</td>\n",
       "      <td>https://twitter.com/Anna_Soubry/status/1113438...</td>\n",
       "      <td>Wed Apr 03 13:49:55 +0000 2019</td>\n",
       "      <td>2019-04-03 13:49:55+00:00</td>\n",
       "      <td>2019-04-03</td>\n",
       "      <td>13:49:55</td>\n",
       "      <td>Anna_Soubry</td>\n",
       "      <td>Here we go! Labour set to facilitate a Conserv...</td>\n",
       "      <td>quote</td>\n",
       "      <td>NaN</td>\n",
       "      <td>...</td>\n",
       "      <td>8626</td>\n",
       "      <td>175504</td>\n",
       "      <td>648</td>\n",
       "      <td>1449</td>\n",
       "      <td>Broxtowe, Nottinghamshire</td>\n",
       "      <td>Anna Soubry MP</td>\n",
       "      <td>13129</td>\n",
       "      <td>NaN</td>\n",
       "      <td>http://annasoubry.org.uk</td>\n",
       "      <td>True</td>\n",
       "    </tr>\n",
       "    <tr>\n",
       "      <th>3378</th>\n",
       "      <td>1113437693889744896</td>\n",
       "      <td>https://twitter.com/Mike_Fabricant/status/1113...</td>\n",
       "      <td>Wed Apr 03 13:46:47 +0000 2019</td>\n",
       "      <td>2019-04-03 13:46:47+00:00</td>\n",
       "      <td>2019-04-03</td>\n",
       "      <td>13:46:47</td>\n",
       "      <td>Mike_Fabricant</td>\n",
       "      <td>No Deal vs Remain by region:\\n\\nNON-LONDON SOU...</td>\n",
       "      <td>retweet</td>\n",
       "      <td>NaN</td>\n",
       "      <td>...</td>\n",
       "      <td>8965</td>\n",
       "      <td>33379</td>\n",
       "      <td>1111</td>\n",
       "      <td>863</td>\n",
       "      <td>Lichfield in Staffordshire, UK</td>\n",
       "      <td>Michael Fabricant</td>\n",
       "      <td>51333</td>\n",
       "      <td>NaN</td>\n",
       "      <td>https://www.michael.fabricant.mp.co.uk/contact/</td>\n",
       "      <td>True</td>\n",
       "    </tr>\n",
       "    <tr>\n",
       "      <th>6479</th>\n",
       "      <td>1108673790903549956</td>\n",
       "      <td>https://twitter.com/stellacreasy/status/110867...</td>\n",
       "      <td>Thu Mar 21 10:16:44 +0000 2019</td>\n",
       "      <td>2019-03-21 10:16:44+00:00</td>\n",
       "      <td>2019-03-21</td>\n",
       "      <td>10:16:44</td>\n",
       "      <td>stellacreasy</td>\n",
       "      <td>Was that the Prime Minister saying that the Ho...</td>\n",
       "      <td>retweet</td>\n",
       "      <td>NaN</td>\n",
       "      <td>...</td>\n",
       "      <td>9</td>\n",
       "      <td>120847</td>\n",
       "      <td>8661</td>\n",
       "      <td>1887</td>\n",
       "      <td>NaN</td>\n",
       "      <td>stellacreasy</td>\n",
       "      <td>83528</td>\n",
       "      <td>NaN</td>\n",
       "      <td>http://about.me/StellaCreasy</td>\n",
       "      <td>True</td>\n",
       "    </tr>\n",
       "    <tr>\n",
       "      <th>7180</th>\n",
       "      <td>1108672380321304576</td>\n",
       "      <td>https://twitter.com/alisonthewliss/status/1108...</td>\n",
       "      <td>Thu Mar 21 10:11:08 +0000 2019</td>\n",
       "      <td>2019-03-21 10:11:08+00:00</td>\n",
       "      <td>2019-03-21</td>\n",
       "      <td>10:11:08</td>\n",
       "      <td>alisonthewliss</td>\n",
       "      <td>On Mon I spoke of the impact of #SeriousShorta...</td>\n",
       "      <td>retweet</td>\n",
       "      <td>NaN</td>\n",
       "      <td>...</td>\n",
       "      <td>21754</td>\n",
       "      <td>21804</td>\n",
       "      <td>6461</td>\n",
       "      <td>465</td>\n",
       "      <td>Glasgow</td>\n",
       "      <td>Alison Thewliss</td>\n",
       "      <td>44202</td>\n",
       "      <td>NaN</td>\n",
       "      <td>https://www.facebook.com/alisonthewlisssnp</td>\n",
       "      <td>True</td>\n",
       "    </tr>\n",
       "  </tbody>\n",
       "</table>\n",
       "<p>10 rows × 39 columns</p>\n",
       "</div>"
      ],
      "text/plain": [
       "                       id                                          tweet_url  \\\n",
       "39    1113445121339604993  https://twitter.com/thomasbrake/status/1113445...   \n",
       "735   1113443515655172096  https://twitter.com/Anna_Soubry/status/1113443...   \n",
       "1138  1113442622163628032  https://twitter.com/GradySNP/status/1113442622...   \n",
       "1716  1113441329734979586  https://twitter.com/MikeGapes/status/111344132...   \n",
       "1869  1113440799499476993  https://twitter.com/Valerie_VazMP/status/11134...   \n",
       "2231  1113440014019563520  https://twitter.com/thomasbrake/status/1113440...   \n",
       "2985  1113438482515537922  https://twitter.com/Anna_Soubry/status/1113438...   \n",
       "3378  1113437693889744896  https://twitter.com/Mike_Fabricant/status/1113...   \n",
       "6479  1108673790903549956  https://twitter.com/stellacreasy/status/110867...   \n",
       "7180  1108672380321304576  https://twitter.com/alisonthewliss/status/1108...   \n",
       "\n",
       "                          created_at         parsed_created_at        date  \\\n",
       "39    Wed Apr 03 14:16:18 +0000 2019 2019-04-03 14:16:18+00:00  2019-04-03   \n",
       "735   Wed Apr 03 14:09:55 +0000 2019 2019-04-03 14:09:55+00:00  2019-04-03   \n",
       "1138  Wed Apr 03 14:06:22 +0000 2019 2019-04-03 14:06:22+00:00  2019-04-03   \n",
       "1716  Wed Apr 03 14:01:14 +0000 2019 2019-04-03 14:01:14+00:00  2019-04-03   \n",
       "1869  Wed Apr 03 13:59:07 +0000 2019 2019-04-03 13:59:07+00:00  2019-04-03   \n",
       "2231  Wed Apr 03 13:56:00 +0000 2019 2019-04-03 13:56:00+00:00  2019-04-03   \n",
       "2985  Wed Apr 03 13:49:55 +0000 2019 2019-04-03 13:49:55+00:00  2019-04-03   \n",
       "3378  Wed Apr 03 13:46:47 +0000 2019 2019-04-03 13:46:47+00:00  2019-04-03   \n",
       "6479  Thu Mar 21 10:16:44 +0000 2019 2019-03-21 10:16:44+00:00  2019-03-21   \n",
       "7180  Thu Mar 21 10:11:08 +0000 2019 2019-03-21 10:11:08+00:00  2019-03-21   \n",
       "\n",
       "          time user_screen_name  \\\n",
       "39    14:16:18      thomasbrake   \n",
       "735   14:09:55      Anna_Soubry   \n",
       "1138  14:06:22         GradySNP   \n",
       "1716  14:01:14        MikeGapes   \n",
       "1869  13:59:07    Valerie_VazMP   \n",
       "2231  13:56:00      thomasbrake   \n",
       "2985  13:49:55      Anna_Soubry   \n",
       "3378  13:46:47   Mike_Fabricant   \n",
       "6479  10:16:44     stellacreasy   \n",
       "7180  10:11:08   alisonthewliss   \n",
       "\n",
       "                                                   text tweet_type  \\\n",
       "39    Circulating this today. \\n\\nA 50% drop in Mini...   original   \n",
       "735   May is sinking &amp; trying to drag Corbyn dow...    retweet   \n",
       "1138  The Scottish Parliament and Welsh Assembly hav...   original   \n",
       "1716  Full statement by President ⁦@JunckerEU⁩ on Un...    retweet   \n",
       "1869  #WelshQuestions at 11:30am. Myself and my Labo...    retweet   \n",
       "2231  .@theresa_may said she’d like to heal the divi...   original   \n",
       "2985  Here we go! Labour set to facilitate a Conserv...      quote   \n",
       "3378  No Deal vs Remain by region:\\n\\nNON-LONDON SOU...    retweet   \n",
       "6479  Was that the Prime Minister saying that the Ho...    retweet   \n",
       "7180  On Mon I spoke of the impact of #SeriousShorta...    retweet   \n",
       "\n",
       "     coordinates  ... user_favourites_count user_followers_count  \\\n",
       "39           NaN  ...                  1141                66937   \n",
       "735          NaN  ...                  8626               175504   \n",
       "1138         NaN  ...                  7083                13479   \n",
       "1716         NaN  ...                 21073                40373   \n",
       "1869         NaN  ...                   108                 4775   \n",
       "2231         NaN  ...                  1141                66937   \n",
       "2985         NaN  ...                  8626               175504   \n",
       "3378         NaN  ...                  8965                33379   \n",
       "6479         NaN  ...                     9               120847   \n",
       "7180         NaN  ...                 21754                21804   \n",
       "\n",
       "     user_friends_count user_listed_count                   user_location  \\\n",
       "39                42765              1074                      Wallington   \n",
       "735                 648              1449       Broxtowe, Nottinghamshire   \n",
       "1138               3995               329                   Glasgow North   \n",
       "1716               1113               847               Ilford, Essex, UK   \n",
       "1869                323               308                   Walsall South   \n",
       "2231              42765              1074                      Wallington   \n",
       "2985                648              1449       Broxtowe, Nottinghamshire   \n",
       "3378               1111               863  Lichfield in Staffordshire, UK   \n",
       "6479               8661              1887                             NaN   \n",
       "7180               6461               465                         Glasgow   \n",
       "\n",
       "              user_name  user_statuses_count  user_time_zone  \\\n",
       "39       Tom Brake MP 🔶                25452             NaN   \n",
       "735      Anna Soubry MP                13129             NaN   \n",
       "1138   Patrick Grady MP                 5637             NaN   \n",
       "1716         Mike Gapes                82346             NaN   \n",
       "1869        Valerie Vaz                 3910             NaN   \n",
       "2231     Tom Brake MP 🔶                25452             NaN   \n",
       "2985     Anna Soubry MP                13129             NaN   \n",
       "3378  Michael Fabricant                51333             NaN   \n",
       "6479       stellacreasy                83528             NaN   \n",
       "7180    Alison Thewliss                44202             NaN   \n",
       "\n",
       "                                            user_urls user_verified  \n",
       "39                          http://www.tombrake.co.uk          True  \n",
       "735                          http://annasoubry.org.uk          True  \n",
       "1138                     http://www.patrickgrady.scot          True  \n",
       "1716                      http://www.mikegapes.org.uk          True  \n",
       "1869                        http://www.valerievaz.com          True  \n",
       "2231                        http://www.tombrake.co.uk          True  \n",
       "2985                         http://annasoubry.org.uk          True  \n",
       "3378  https://www.michael.fabricant.mp.co.uk/contact/          True  \n",
       "6479                     http://about.me/StellaCreasy          True  \n",
       "7180       https://www.facebook.com/alisonthewlisssnp          True  \n",
       "\n",
       "[10 rows x 39 columns]"
      ]
     },
     "execution_count": 7,
     "metadata": {},
     "output_type": "execute_result"
    }
   ],
   "source": [
    "mp_tweets = tweets_all[tweets_all.user_screen_name.isin(mps.screen_name)]\n",
    "mp_tweets.head(10)"
   ]
  },
  {
   "cell_type": "code",
   "execution_count": 8,
   "metadata": {},
   "outputs": [
    {
     "data": {
      "text/plain": [
       "(4662, 39)"
      ]
     },
     "execution_count": 8,
     "metadata": {},
     "output_type": "execute_result"
    }
   ],
   "source": [
    "mp_tweets.shape"
   ]
  },
  {
   "cell_type": "markdown",
   "metadata": {},
   "source": [
    "### Metrics from the tweets"
   ]
  },
  {
   "cell_type": "code",
   "execution_count": 9,
   "metadata": {},
   "outputs": [
    {
     "data": {
      "text/plain": [
       "PeterGrantMP       179\n",
       "AngusMacNeilSNP    147\n",
       "thomasbrake        133\n",
       "SDoughtyMP         127\n",
       "Anna_Soubry        116\n",
       "MikeGapes           99\n",
       "ChukaUmunna         89\n",
       "JoStevensLabour     85\n",
       "BenPBradshaw        84\n",
       "Mike_Fabricant      80\n",
       "IanBlackfordMP      75\n",
       "HywelPlaidCymru     68\n",
       "GavNewlandsSNP      67\n",
       "ChrisLeslieMP       64\n",
       "halfon4harlowMP     63\n",
       "alisonthewliss      59\n",
       "PaulJSweeney        58\n",
       "annaturley          57\n",
       "JonathanPlaid       55\n",
       "SteveBakerHW        49\n",
       "Name: user_screen_name, dtype: int64"
      ]
     },
     "execution_count": 9,
     "metadata": {},
     "output_type": "execute_result"
    }
   ],
   "source": [
    "mp_tweets.user_screen_name.value_counts()[0:20]"
   ]
  },
  {
   "cell_type": "code",
   "execution_count": 10,
   "metadata": {},
   "outputs": [
    {
     "data": {
      "text/plain": [
       "PeterGrantMP       179\n",
       "AngusMacNeilSNP    147\n",
       "thomasbrake        133\n",
       "SDoughtyMP         127\n",
       "Anna_Soubry        116\n",
       "MikeGapes           99\n",
       "ChukaUmunna         89\n",
       "JoStevensLabour     85\n",
       "BenPBradshaw        84\n",
       "Mike_Fabricant      80\n",
       "IanBlackfordMP      75\n",
       "HywelPlaidCymru     68\n",
       "GavNewlandsSNP      67\n",
       "ChrisLeslieMP       64\n",
       "halfon4harlowMP     63\n",
       "alisonthewliss      59\n",
       "PaulJSweeney        58\n",
       "annaturley          57\n",
       "JonathanPlaid       55\n",
       "SteveBakerHW        49\n",
       "Name: user_screen_name, dtype: int64"
      ]
     },
     "execution_count": 10,
     "metadata": {},
     "output_type": "execute_result"
    }
   ],
   "source": [
    "mp_tweets.user_screen_name.value_counts()[0:20]"
   ]
  },
  {
   "cell_type": "code",
   "execution_count": 11,
   "metadata": {},
   "outputs": [
    {
     "name": "stderr",
     "output_type": "stream",
     "text": [
      "/home/ubuntu/.local/lib/python3.6/site-packages/pandas/core/generic.py:5096: SettingWithCopyWarning: \n",
      "A value is trying to be set on a copy of a slice from a DataFrame.\n",
      "Try using .loc[row_indexer,col_indexer] = value instead\n",
      "\n",
      "See the caveats in the documentation: http://pandas.pydata.org/pandas-docs/stable/indexing.html#indexing-view-versus-copy\n",
      "  self[name] = value\n"
     ]
    }
   ],
   "source": [
    "mp_tweets.hashtags = mp_tweets.hashtags.str.lower()"
   ]
  },
  {
   "cell_type": "code",
   "execution_count": 12,
   "metadata": {},
   "outputs": [],
   "source": [
    "def count_hashtags(df):\n",
    "    hashtags = []\n",
    "    for x in df[\"hashtags\"]:\n",
    "        hashtags.extend(x.split())\n",
    "    return pd.Series(hashtags)"
   ]
  },
  {
   "cell_type": "code",
   "execution_count": 13,
   "metadata": {},
   "outputs": [
    {
     "data": {
      "text/plain": [
       "brexit                  4738\n",
       "peoplesvote              525\n",
       "finalsay                 228\n",
       "putittothepeople         124\n",
       "pmqs                     108\n",
       "brexitshambles           104\n",
       "eu                       103\n",
       "revokearticle50           80\n",
       "indicativevotes           73\n",
       "nodeal                    71\n",
       "withdrawalagreement       58\n",
       "labour                    57\n",
       "article50                 51\n",
       "indyref2                  47\n",
       "brexitchaos               41\n",
       "parliament                41\n",
       "marr                      40\n",
       "changepolitics            39\n",
       "peoplesvotemarch          37\n",
       "referendum                37\n",
       "backstop                  36\n",
       "rdguk                     32\n",
       "politicslive              29\n",
       "brexitvote                28\n",
       "stopbrexit                27\n",
       "remain                    26\n",
       "scotland                  21\n",
       "customsunion              21\n",
       "ridge                     20\n",
       "commonmarket2             19\n",
       "                        ... \n",
       "march29                    1\n",
       "workingtogether            1\n",
       "thread                     1\n",
       "alba                       1\n",
       "photo                      1\n",
       "tá32                       1\n",
       "grandwizards               1\n",
       "escaperoom                 1\n",
       "chippenham                 1\n",
       "sustainable                1\n",
       "europeanelection           1\n",
       "backingtheuk               1\n",
       "beeston                    1\n",
       "coys                       1\n",
       "strongandstable            1\n",
       "espritsdumonde             1\n",
       "shellfishmerchants         1\n",
       "peoplesvoterally           1\n",
       "janeygodleyvoiceover       1\n",
       "2ndreffer                  1\n",
       "agricultural               1\n",
       "chichester                 1\n",
       "opportunity                1\n",
       "wato                       1\n",
       "bbcpm                      1\n",
       "slapdash                   1\n",
       "community                  1\n",
       "newsdrive                  1\n",
       "greennewdeal               1\n",
       "echr                       1\n",
       "Length: 1020, dtype: int64"
      ]
     },
     "execution_count": 13,
     "metadata": {},
     "output_type": "execute_result"
    }
   ],
   "source": [
    "count_hashtags(mp_tweets).value_counts()"
   ]
  },
  {
   "cell_type": "code",
   "execution_count": 14,
   "metadata": {},
   "outputs": [
    {
     "name": "stdout",
     "output_type": "stream",
     "text": [
      "                    id                                          tweet_url  \\\n",
      "0  1113445121339604993  https://twitter.com/thomasbrake/status/1113445...   \n",
      "1  1113440014019563520  https://twitter.com/thomasbrake/status/1113440...   \n",
      "2  1110507438925447168  https://twitter.com/thomasbrake/status/1110507...   \n",
      "3  1111312746245734401  https://twitter.com/thomasbrake/status/1111312...   \n",
      "4  1116307858033926144  https://twitter.com/thomasbrake/status/1116307...   \n",
      "\n",
      "                       created_at         parsed_created_at        date  \\\n",
      "0  Wed Apr 03 14:16:18 +0000 2019 2019-04-03 14:16:18+00:00  2019-04-03   \n",
      "1  Wed Apr 03 13:56:00 +0000 2019 2019-04-03 13:56:00+00:00  2019-04-03   \n",
      "2  Tue Mar 26 11:43:00 +0000 2019 2019-03-26 11:43:00+00:00  2019-03-26   \n",
      "3  Thu Mar 28 17:03:00 +0000 2019 2019-03-28 17:03:00+00:00  2019-03-28   \n",
      "4  Thu Apr 11 11:51:48 +0000 2019 2019-04-11 11:51:48+00:00  2019-04-11   \n",
      "\n",
      "       time user_screen_name  \\\n",
      "0  14:16:18      thomasbrake   \n",
      "1  13:56:00      thomasbrake   \n",
      "2  11:43:00      thomasbrake   \n",
      "3  17:03:00      thomasbrake   \n",
      "4  11:51:48      thomasbrake   \n",
      "\n",
      "                                                text tweet_type coordinates  \\\n",
      "0  Circulating this today. \\n\\nA 50% drop in Mini...   original         NaN   \n",
      "1  .@theresa_may said she’d like to heal the divi...   original         NaN   \n",
      "2  #Brexit was about Parliamentary sovereignty ye...   original         NaN   \n",
      "3  Whether we leave with a deal or not, the Govt ...   original         NaN   \n",
      "4  .@andrealeadsom still refuses to confirm that ...   original         NaN   \n",
      "\n",
      "   ... user_location       user_name user_statuses_count user_time_zone  \\\n",
      "0  ...    Wallington  Tom Brake MP 🔶               25452            NaN   \n",
      "1  ...    Wallington  Tom Brake MP 🔶               25452            NaN   \n",
      "2  ...    Wallington  Tom Brake MP 🔶               25452            NaN   \n",
      "3  ...    Wallington  Tom Brake MP 🔶               25452            NaN   \n",
      "4  ...    Wallington  Tom Brake MP 🔶               25453            NaN   \n",
      "\n",
      "                   user_urls user_verified       name             party  \\\n",
      "0  http://www.tombrake.co.uk          True  Tom Brake  Liberal Democrat   \n",
      "1  http://www.tombrake.co.uk          True  Tom Brake  Liberal Democrat   \n",
      "2  http://www.tombrake.co.uk          True  Tom Brake  Liberal Democrat   \n",
      "3  http://www.tombrake.co.uk          True  Tom Brake  Liberal Democrat   \n",
      "4  http://www.tombrake.co.uk          True  Tom Brake  Liberal Democrat   \n",
      "\n",
      "   screen_name gender  \n",
      "0  thomasbrake      m  \n",
      "1  thomasbrake      m  \n",
      "2  thomasbrake      m  \n",
      "3  thomasbrake      m  \n",
      "4  thomasbrake      m  \n",
      "\n",
      "[5 rows x 43 columns]\n"
     ]
    }
   ],
   "source": [
    "mp_tweets = mp_tweets.merge(mps, left_on=\"user_screen_name\", right_on=\"screen_name\")\n",
    "print(mp_tweets.head())\n",
    "#mp_tweets.to_csv(\"../../data/continuous_rehydrated/interim_data/mp_tweets.csv\")"
   ]
  },
  {
   "cell_type": "code",
   "execution_count": 15,
   "metadata": {},
   "outputs": [
    {
     "data": {
      "text/plain": [
       "Labour                     1448\n",
       "Conservative                971\n",
       "Scottish National Party     961\n",
       "Independent                 508\n",
       "Labour/Co-operative         350\n",
       "Liberal Democrat            175\n",
       "Plaid Cymru                 124\n",
       "Sinn Féin                    87\n",
       "Green                        34\n",
       "DUP                           4\n",
       "Name: party, dtype: int64"
      ]
     },
     "execution_count": 15,
     "metadata": {},
     "output_type": "execute_result"
    }
   ],
   "source": [
    "mp_tweets.party.value_counts()"
   ]
  },
  {
   "cell_type": "code",
   "execution_count": 16,
   "metadata": {},
   "outputs": [
    {
     "data": {
      "text/plain": [
       "brexit                       1669\n",
       "peoplesvote                   175\n",
       "finalsay                       92\n",
       "putittothepeople               70\n",
       "pmqs                           46\n",
       "brexitshambles                 26\n",
       "indicativevotes                22\n",
       "brexitchaos                    21\n",
       "nodeal                         21\n",
       "eu                             21\n",
       "revokearticle50                20\n",
       "peoplesvotemarch               19\n",
       "labour                         18\n",
       "withdrawalagreement            16\n",
       "politicslive                   16\n",
       "changepolitics                 16\n",
       "parliament                     16\n",
       "article50                      15\n",
       "backstop                       14\n",
       "remain                         12\n",
       "marr                           12\n",
       "customsunion                   12\n",
       "brexitvote                     10\n",
       "ridge                           9\n",
       "revokeandremain                 8\n",
       "publicvote                      8\n",
       "erg                             7\n",
       "breaking                        7\n",
       "springstatement                 7\n",
       "wales                           7\n",
       "                             ... \n",
       "le19                            1\n",
       "catford                         1\n",
       "eulaw                           1\n",
       "grandwizards                    1\n",
       "digitalsurgery                  1\n",
       "stationskippinghackney          1\n",
       "love                            1\n",
       "scottish                        1\n",
       "northwest                       1\n",
       "lowermorden                     1\n",
       "goodgrief                       1\n",
       "medicalsupplies                 1\n",
       "cardiff                         1\n",
       "upsidedown                      1\n",
       "bbcnorthpolitics                1\n",
       "commonwealth                    1\n",
       "windrush                        1\n",
       "birmingham                      1\n",
       "shambles                        1\n",
       "letsgetonwithit                 1\n",
       "bartonhill                      1\n",
       "newcastle                       1\n",
       "labourfail                      1\n",
       "heymp                           1\n",
       "eufunding                       1\n",
       "farming                         1\n",
       "manufacturing                   1\n",
       "agricultural                    1\n",
       "cardiffcentralvotedremain       1\n",
       "agbill                          1\n",
       "Length: 512, dtype: int64"
      ]
     },
     "execution_count": 16,
     "metadata": {},
     "output_type": "execute_result"
    }
   ],
   "source": [
    "count_hashtags(mp_tweets[(mp_tweets.gender == 'm')]).value_counts()\n",
    "count_hashtags(mp_tweets[(mp_tweets.gender == 'f')]).value_counts()"
   ]
  },
  {
   "cell_type": "code",
   "execution_count": 17,
   "metadata": {},
   "outputs": [
    {
     "data": {
      "text/plain": [
       "brexit                 1471\n",
       "peoplesvote             139\n",
       "finalsay                130\n",
       "brexitshambles           51\n",
       "putittothepeople         48\n",
       "pmqs                     46\n",
       "rdguk                    32\n",
       "labour                   22\n",
       "peoplesvotemarch         21\n",
       "brexitchaos              21\n",
       "parliament               20\n",
       "politicslive             15\n",
       "marr                     15\n",
       "indicativevotes          15\n",
       "article50                13\n",
       "euco                     13\n",
       "eu                       13\n",
       "brexitvote               12\n",
       "revokearticle50          12\n",
       "nodeal                   12\n",
       "scotnight                11\n",
       "tory                     11\n",
       "ridge                    10\n",
       "springstatement           9\n",
       "revokeandremain           8\n",
       "backstop                  8\n",
       "withdrawalagreement       8\n",
       "publicvote                8\n",
       "nhs                       7\n",
       "yorkshire                 6\n",
       "                       ... \n",
       "ladywood                  1\n",
       "astra                     1\n",
       "commomarket2              1\n",
       "proudmp                   1\n",
       "leftbrexittour            1\n",
       "cfp                       1\n",
       "codpiecesoftwitter        1\n",
       "animal                    1\n",
       "raisetherate              1\n",
       "behindeverymusician       1\n",
       "commodities               1\n",
       "animalwelfare             1\n",
       "thefourthshore            1\n",
       "stormfreya                1\n",
       "march29                   1\n",
       "flextension               1\n",
       "soundcloud                1\n",
       "sundaythoughts            1\n",
       "geoffreycox               1\n",
       "torybrexitchaos           1\n",
       "pencoed                   1\n",
       "antisemitism              1\n",
       "gmb                       1\n",
       "riches                    1\n",
       "slough                    1\n",
       "leeds                     1\n",
       "welshandeuropean          1\n",
       "grandwizards              1\n",
       "marrmusic                 1\n",
       "norwayplus                1\n",
       "Length: 366, dtype: int64"
      ]
     },
     "execution_count": 17,
     "metadata": {},
     "output_type": "execute_result"
    }
   ],
   "source": [
    "count_hashtags(mp_tweets[(mp_tweets.party != 'Conservative')&(mp_tweets.party != 'Labour')]).value_counts()\n",
    "count_hashtags(mp_tweets[mp_tweets.party == 'Conservative']).value_counts()\n",
    "count_hashtags(mp_tweets[mp_tweets.party == 'Labour']).value_counts()"
   ]
  },
  {
   "cell_type": "code",
   "execution_count": 18,
   "metadata": {},
   "outputs": [
    {
     "data": {
      "text/plain": [
       "Index(['id', 'tweet_url', 'created_at', 'parsed_created_at', 'date', 'time',\n",
       "       'user_screen_name', 'text', 'tweet_type', 'coordinates', 'place',\n",
       "       'hashtags', 'media', 'urls', 'favorite_count',\n",
       "       'in_reply_to_screen_name', 'in_reply_to_status_id',\n",
       "       'in_reply_to_user_id', 'lang', 'possibly_sensitive', 'retweet_count',\n",
       "       'retweet_or_quote_id', 'retweet_or_quote_screen_name',\n",
       "       'retweet_or_quote_user_id', 'source', 'user_id', 'user_created_at',\n",
       "       'user_default_profile_image', 'user_description',\n",
       "       'user_favourites_count', 'user_followers_count', 'user_friends_count',\n",
       "       'user_listed_count', 'user_location', 'user_name',\n",
       "       'user_statuses_count', 'user_time_zone', 'user_urls', 'user_verified',\n",
       "       'name', 'party', 'screen_name', 'gender'],\n",
       "      dtype='object')"
      ]
     },
     "execution_count": 18,
     "metadata": {},
     "output_type": "execute_result"
    }
   ],
   "source": [
    "mp_tweets.columns"
   ]
  },
  {
   "cell_type": "code",
   "execution_count": 19,
   "metadata": {
    "scrolled": false
   },
   "outputs": [
    {
     "data": {
      "text/plain": [
       "https://petition.parliament.uk/petitions/241584                                                                                                       10\n",
       "https://www.theindependent.group/support                                                                                                               5\n",
       "http://scotlandandthebrexitcrisis.eventbrite.co.uk                                                                                                     5\n",
       "https://davidlinden.scot/brexit                                                                                                                        4\n",
       "https://twitter.com/FrancesOGrady/status/1108726253849378816                                                                                           4\n",
       "https://twitter.com/BBCPolitics/status/1116292551575662592                                                                                             4\n",
       "http://bbc.in/2UP3C97                                                                                                                                  4\n",
       "https://www.conservativehome.com/thecolumnists/2019/03/robert-halfon-mythbusting-common-market-2-0.html                                                3\n",
       "https://twitter.com/C4Dispatches/status/1104817355509678080                                                                                            3\n",
       "https://www.theguardian.com/politics/2019/mar/10/brexit-tories-target-workers-roll-back-rights-mays-deal                                               3\n",
       "https://labour.org.uk/?p=24050                                                                                                                         2\n",
       "https://labourlist.org/2019/04/theresa-may-has-set-a-trap-for-labour-but-she-could-fall-into-it-herself/                                               2\n",
       "https://www.opendemocracy.net/en/opendemocracyuk/i-was-strong-brexiteer-now-we-must-swallow-our-pride-and-think-again/                                 2\n",
       "https://twitter.com/PaulBrandITV/status/1108447950659899393                                                                                            2\n",
       "https://twitter.com/faisalislam/status/1100455599446339585                                                                                             2\n",
       "http://www.scotlandandthebrexitcrisis.eventbrite.co.uk                                                                                                 2\n",
       "https://twitter.com/SebastianEPayne/status/1112745585948401666                                                                                         2\n",
       "http://www.thetimes.co.uk/article/4e26d7e6-5898-11e9-8813-c167a1bb1937                                                                                 2\n",
       "https://www.itv.com/hub/exposure-brexit-online-uncovered/2a5966a0001                                                                                   2\n",
       "https://www.thetimes.co.uk/edition/news/remainers-are-wrong-to-dismiss-brexit-as-narrow-english-nationalism-6bqb2ctqv                                  2\n",
       "https://twitter.com/BBCr4today/status/1115886367316299776                                                                                              2\n",
       "https://www.chroniclelive.co.uk/news/north-east-news/theresa-may-brexit-bribe-deal-15919191                                                            2\n",
       "https://twitter.com/kazmc39/status/1110637925635710976                                                                                                 2\n",
       "https://twitter.com/SophyRidgeSky/status/1108861226459824128?s=19                                                                                      2\n",
       "https://twitter.com/CER_EU/status/1111915972632420353                                                                                                  2\n",
       "https://www.theguardian.com/commentisfree/2019/mar/12/erg-theresa-may-deal-legal-29-march-brexit                                                       2\n",
       "https://twitter.com/GMB_union/status/1105370846212825088                                                                                               2\n",
       "http://bit.ly/2Fl6Yu7                                                                                                                                  2\n",
       "https://twitter.com/ITVWales/status/1105587035765649408                                                                                                2\n",
       "http://debbieabrahams.org.uk/debbie-abrahams-mp-statement-on-brexit/                                                                                   2\n",
       "                                                                                                                                                      ..\n",
       "https://twitter.com/Channel4News/status/1103020134929707010                                                                                            1\n",
       "https://bit.ly/2ENf7sa                                                                                                                                 1\n",
       "https://youtu.be/yrsIt9_P6OQ                                                                                                                           1\n",
       "https://twitter.com/Sally_CF71/status/1100724720712839169                                                                                              1\n",
       "https://www.bbc.co.uk/news/uk-politics-47369898                                                                                                        1\n",
       "https://www.theguardian.com/politics/2019/mar/05/death-threats-every-single-day-mps-on-effect-of-brexit-vote                                           1\n",
       "http://helenjonesmp.co.uk/statement-brexit-indicative-votes                                                                                            1\n",
       "https://www.eventbrite.co.uk/e/love-feminism-hate-brexit-tickets-57798621232                                                                           1\n",
       "https://www.theyworkforyou.com/mp/10506/geoffrey_robinson/coventry_north_west/recent                                                                   1\n",
       "http://goo.gl/wFQwns                                                                                                                                   1\n",
       "https://twitter.com/morgenmagazin/status/1105385187066683395                                                                                           1\n",
       "https://www.lizmcinnesmp.org.uk/blog/2019/03/28/last-nights-indicative-votes-on-brexit/                                                                1\n",
       "https://www.telegraph.co.uk/politics/2019/03/19/no-deal-better-brexit-delay-say-public-poll-finds-just-one-10/?WT.mc_id=tmg_share_tw                   1\n",
       "https://www.bbc.co.uk/news/uk-politics-47756122                                                                                                        1\n",
       "https://twitter.com/Manuel_TSSA/status/1102137942854782976                                                                                             1\n",
       "http://www.andreajenkyns.co.uk/news/andrea-supports-increased-animal-rights-post-brexit                                                                1\n",
       "https://twitter.com/PaulGoodmanCH/status/1103924883984011265                                                                                           1\n",
       "https://twitter.com/BroxtoweInEU/status/1111359832056098818                                                                                            1\n",
       "https://www.theguardian.com/money/2019/mar/31/childcare-fees-rocket-lack-of-early-years-funding-nurseries-close?CMP=share_btn_tw                       1\n",
       "https://twitter.com/GuidoFawkes/status/1113053330249482240                                                                                             1\n",
       "https://twitter.com/CentralLobby/status/1102456137130098688                                                                                            1\n",
       "https://twitter.com/SMMT/status/1101161470509940736                                                                                                    1\n",
       "https://twitter.com/PARLYapp/status/1105424219268100096                                                                                                1\n",
       "https://www.mirror.co.uk/news/uk-news/cash-strapped-school-forced-consider-14184264?utm_source=twitter.com&utm_medium=social&utm_campaign=sharebar     1\n",
       "https://twitter.com/adamrmcvey/status/1116219344030248960                                                                                              1\n",
       "https://twitter.com/RupertMyers/status/1111722548524396545                                                                                             1\n",
       "https://twitter.com/wabbey/status/1105131045916237824                                                                                                  1\n",
       "https://euexitbusiness.campaign.gov.uk/?utm_source=HMRC&utm_medium=Department%20owned%20channels&utm_campaign=EU%20Exit%20Business                     1\n",
       "https://twitter.com/BritishArmy/status/1105834370928205824                                                                                             1\n",
       "https://www.kentonline.co.uk/canterbury/sport/grants-wembley-dream-200563/                                                                             1\n",
       "Name: urls, Length: 669, dtype: int64"
      ]
     },
     "execution_count": 19,
     "metadata": {},
     "output_type": "execute_result"
    }
   ],
   "source": [
    "mp_tweets.urls.value_counts()"
   ]
  },
  {
   "cell_type": "code",
   "execution_count": 20,
   "metadata": {},
   "outputs": [
    {
     "data": {
      "text/plain": [
       "https://petition.parliament.uk/petitions/241584                                                                                                                                                                           8708\n",
       "https://twitter.com/johnnystarling/status/1094553131143307264?s=20                                                                                                                                                        3321\n",
       "https://bit.ly/2DF5I6N                                                                                                                                                                                                    2472\n",
       "https://www.ft.com/content/5f3df8bc-4c03-11e9-bde6-79eaea5acb64                                                                                                                                                           2168\n",
       "https://bbc.in/2ET3BKA                                                                                                                                                                                                    1753\n",
       "https://bbc.in/2TM9nas                                                                                                                                                                                                    1071\n",
       "https://twitter.com/PaulBrandITV/status/1108447950659899393                                                                                                                                                               1018\n",
       "https://twitter.com/peterjukes/status/1088922287993163776                                                                                                                                                                  885\n",
       "https://petition.parliament.uk/petitions/241848                                                                                                                                                                            866\n",
       "https://fb.avaaz.org/campaign/en/save_britain_pause_brexit_loc/?wClnymb                                                                                                                                                    804\n",
       "https://bbc.in/2FwbTsq                                                                                                                                                                                                     784\n",
       "https://twitter.com/CGreenUK/status/1107213267418542080                                                                                                                                                                    728\n",
       "https://www.coventrytelegraph.net/news/coventry-news/coventry-news-nigel-farage-brexit-16106413                                                                                                                            676\n",
       "https://twitter.com/wallaceme/status/1105552196433780739                                                                                                                                                                   659\n",
       "https://www.huffingtonpost.co.uk/entry/exclusive-leading-european-socialists-urge-corbyn-to-back-remain-and-reform-brexit-agenda_uk_5c87d47de4b038892f47b163?ncid=other_twitter_cooo9wqtham&utm_campaign=share_twitter     652\n",
       "https://twitter.com/BBCPolitics/status/1109502078005714945                                                                                                                                                                 651\n",
       "http://ec.europa.eu/brexit-traders                                                                                                                                                                                         638\n",
       "https://twitter.com/Jacob_Rees_Mogg/status/1114086264024727554                                                                                                                                                             625\n",
       "https://twitter.com/EmporersNewC/status/1113547733300842497                                                                                                                                                                623\n",
       "https://twitter.com/BreakingNLive/status/1109567650848489473                                                                                                                                                               585\n",
       "https://twitter.com/CentralLobby/status/1102456137130098688                                                                                                                                                                577\n",
       "https://twitter.com/Change_Britain/status/1115256524102930432                                                                                                                                                              562\n",
       "https://www.independent.co.uk/news/uk/politics/theresa-may-brexit-deal-mp-house-of-commons-eu-brussels-peoples-vote-a8815826.html                                                                                          537\n",
       "https://www.telegraph.co.uk/politics/2019/04/07/should-us-think-bbc-biased-against-brexit-refuse-pay-license/                                                                                                              527\n",
       "https://www.peoples-vote.uk/march                                                                                                                                                                                          517\n",
       "https://twitter.com/RupertMyers/status/1106802515943800832                                                                                                                                                                 512\n",
       "https://www.independent.co.uk/voices/brexit-jeremy-corbyn-referendum-final-say-vote-unions-newcastle-a8854496.html                                                                                                         506\n",
       "https://www.pscp.tv/w/b2JdAzFEWUVYR2VXSlBhamd8MWRSS1pPRXFSeXpHQm4lwT9fjTCiK8yiODJt43pze--YPjzgz8k6BaCmc7Ka                                                                                                                 502\n",
       "https://youtu.be/jiUFPjulTW8                                                                                                                                                                                               464\n",
       "http://gov.ie/brexit                                                                                                                                                                                                       463\n",
       "                                                                                                                                                                                                                          ... \n",
       "https://twitter.com/keypointist/status/1110955561313550338                                                                                                                                                                   1\n",
       "https://news.sky.com/story/may-tops-list-of-biggest-government-defeats-11608104                                                                                                                                              1\n",
       "http://sputniknews.com/popup/radio/ https://m.youtube.com/watch?v=1NCM3OCHEks                                                                                                                                                1\n",
       "https://twitter.com/isabelleory/status/1105550240562712577                                                                                                                                                                   1\n",
       "https://twitter.com/teresadg0/status/1108852992239984644                                                                                                                                                                     1\n",
       "https://twitter.com/mondocongo/status/1116488958551187462                                                                                                                                                                    1\n",
       "https://www.forbes.com/sites/rogeraitken/2019/03/27/brexit-british-parliaments-indicative-votes-process-may-yield-workable-path/                                                                                             1\n",
       "https://twitter.com/gawnie1/status/1113222952533753856                                                                                                                                                                       1\n",
       "https://youtu.be/VLrd7tbiQQE                                                                                                                                                                                                 1\n",
       "https://fr.euronews.com/2019/04/05/nouveau-report-du-brexit-les-27-hesitent                                                                                                                                                  1\n",
       "https://twitter.com/josephmdurso/status/1113535325404581888                                                                                                                                                                  1\n",
       "https://hubs.ly/H0h9Q1h0                                                                                                                                                                                                     1\n",
       "https://reut.rs/2FEMI8e                                                                                                                                                                                                      1\n",
       "https://twitter.com/Steven_Swinford/status/1110563168881963009                                                                                                                                                               1\n",
       "https://www.bbc.co.uk/programmes/p073j0kc                                                                                                                                                                                    1\n",
       "https://heilig.berlin/2019/02/28/gutundboese/                                                                                                                                                                                1\n",
       "http://youtube.com/watch?v=4S8IXfWX2c4&feature=youtu.be https://muunyayo.wordpress.com/2019/02/28/house-of-commons-debates-prime-minister-theresa-mays-new-brexit-strategy/                                                  1\n",
       "https://twitter.com/WSTA_Miles/status/1102536749245440001                                                                                                                                                                    1\n",
       "https://www.facebook.com/France2Londres/                                                                                                                                                                                     1\n",
       "https://www.economia.gr/gr/journal2/blog/post?journal_blog_category_id=8&journal_blog_post_id=1686 https://www.economia.gr/gr/journal2/blog/post?journal_blog_category_id=8&journal_blog_post_id=1686                        1\n",
       "http://bit.ly/2HHPJG4                                                                                                                                                                                                        1\n",
       "https://uk.reuters.com/article/uk-britain-eu-nextsteps-factbox/factbox-lost-in-the-brexit-maze-what-happens-next-in-britain-idUKKCN1RH15K                                                                                    1\n",
       "https://www.abc.net.au/triplej/programs/hack/how-brexit-affects-australians-travelling-to-the-uk-and-europe/10898014?fbclid=IwAR2nyfokP__2zF6TRMjUsyeQ1otcmGKPEqcGgy_SBHrePrbvcQw7USVf2Mw                                    1\n",
       "http://bit.ly/2I2DYdR                                                                                                                                                                                                        1\n",
       "https://itunes.apple.com/gb/podcast/sophy-ridge-on-sunday/id1201909139?mt=2                                                                                                                                                  1\n",
       "https://twitter.com/VMaledew/status/1107997362729947137                                                                                                                                                                      1\n",
       "https://www.sightmagazine.com.au/news/11953-brexit-and-bananas-uk-charities-fear-fall-from-global-stage                                                                                                                      1\n",
       "https://twitter.com/BBCInOurTime/status/1115721582440321025                                                                                                                                                                  1\n",
       "https://www.linkedin.com/feed/update/urn:li:activity:6508993570261868544/                                                                                                                                                    1\n",
       "http://www.business-central.co.uk/events/categories/brexit/                                                                                                                                                                  1\n",
       "Name: urls, Length: 285261, dtype: int64"
      ]
     },
     "execution_count": 20,
     "metadata": {},
     "output_type": "execute_result"
    }
   ],
   "source": [
    "tweets_all.urls.value_counts()"
   ]
  },
  {
   "cell_type": "code",
   "execution_count": 21,
   "metadata": {},
   "outputs": [],
   "source": [
    "from nltk.corpus import stopwords\n",
    "# You will have to download the set of stop words the first time\n",
    "import nltk\n",
    "#nltk.download('stopwords')\n",
    "# original == [original, quote, reply]\n",
    "original_tweets = tweets_all[tweets_all.tweet_type != 'retweet']"
   ]
  },
  {
   "cell_type": "code",
   "execution_count": 22,
   "metadata": {},
   "outputs": [
    {
     "name": "stdout",
     "output_type": "stream",
     "text": [
      "#Brexit - Looks like no meaningful votes on Friday\n",
      "https://t.co/Ba0wCpn4y9 https://t.co/hYCV1ITjHd\n"
     ]
    },
    {
     "data": {
      "text/plain": [
       "'brexit looks like meaningful votes friday'"
      ]
     },
     "execution_count": 22,
     "metadata": {},
     "output_type": "execute_result"
    }
   ],
   "source": [
    "\n",
    "## calculate keyword freqs\n",
    "# remove stop words, and lem?\n",
    "# remove RT, remove hashtags?\n",
    "\n",
    "from nltk.tokenize import WordPunctTokenizer\n",
    "tok = WordPunctTokenizer()\n",
    "stop_words = stopwords.words('english')\n",
    "import re\n",
    "\n",
    "\n",
    "def clean_tweet(tweet):\n",
    "    #screen names\n",
    "    text = re.sub(r'@[A-Za-z0-9]+','', tweet)\n",
    "    # urls\n",
    "    text = re.sub('https?://[A-Za-z0-9./]+','', text)\n",
    "    #remove special characters\n",
    "    letters_only = re.sub(\"[^a-zA-Z]\", \" \", text)\n",
    "    lower_case = letters_only.lower()\n",
    "    # tokenize to words and remove stop words\n",
    "    tokenized_words = tok.tokenize(lower_case)\n",
    "    words = [word for word in tokenized_words if word not in stop_words]\n",
    "    return (\" \".join(words)).strip()\n",
    "\n",
    "\n",
    "print(original_tweets.text.iloc[10])\n",
    "clean_tweet(original_tweets.text.iloc[10])"
   ]
  },
  {
   "cell_type": "code",
   "execution_count": 23,
   "metadata": {},
   "outputs": [],
   "source": [
    "res = original_tweets.text.apply(clean_tweet)"
   ]
  },
  {
   "cell_type": "code",
   "execution_count": 24,
   "metadata": {},
   "outputs": [],
   "source": [
    "def count_keywords(column):\n",
    "    hashtags = []\n",
    "    for row in column:\n",
    "        hashtags.extend(row.split())\n",
    "    return pd.Series(hashtags)"
   ]
  },
  {
   "cell_type": "code",
   "execution_count": 25,
   "metadata": {
    "scrolled": true
   },
   "outputs": [
    {
     "data": {
      "text/plain": [
       "brexit                          1258024\n",
       "eu                               169810\n",
       "may                              160017\n",
       "uk                               141464\n",
       "deal                             137690\n",
       "amp                               92415\n",
       "vote                              87193\n",
       "people                            84672\n",
       "de                                74002\n",
       "leave                             66030\n",
       "would                             55903\n",
       "get                               53691\n",
       "one                               51097\n",
       "like                              49459\n",
       "time                              47463\n",
       "mps                               47410\n",
       "peoplesvote                       47330\n",
       "parliament                        47132\n",
       "us                                46214\n",
       "la                                45809\n",
       "theresa                           43303\n",
       "want                              41054\n",
       "remain                            40914\n",
       "referendum                        39875\n",
       "voted                             38662\n",
       "news                              35152\n",
       "country                           34299\n",
       "party                             32824\n",
       "going                             32773\n",
       "today                             32543\n",
       "                                 ...   \n",
       "lakens                                1\n",
       "jeffreya                              1\n",
       "gonades                               1\n",
       "tunnustuksen                          1\n",
       "tolera                                1\n",
       "depoliticising                        1\n",
       "gynnal                                1\n",
       "selcuk                                1\n",
       "conformar                             1\n",
       "reding                                1\n",
       "kanazawa                              1\n",
       "languagepolitics                      1\n",
       "gayfascism                            1\n",
       "rejuvenating                          1\n",
       "farn                                  1\n",
       "guaranties                            1\n",
       "kinnegar                              1\n",
       "iacobus                               1\n",
       "lotro                                 1\n",
       "nawerhatdasbishierhergelesen          1\n",
       "dfgp                                  1\n",
       "glideth                               1\n",
       "rundherum                             1\n",
       "pinkelephantinroom                    1\n",
       "fulhambroadway                        1\n",
       "itsabouttime                          1\n",
       "permafree                             1\n",
       "ogzpy                                 1\n",
       "diballista                            1\n",
       "partileri                             1\n",
       "Length: 364380, dtype: int64"
      ]
     },
     "execution_count": 25,
     "metadata": {},
     "output_type": "execute_result"
    }
   ],
   "source": [
    "count_keywords(res).value_counts()"
   ]
  },
  {
   "cell_type": "code",
   "execution_count": 26,
   "metadata": {},
   "outputs": [
    {
     "data": {
      "text/plain": [
       "https://twitter.com/BrendanOHaraSNP/status/1106241843501633538/photo/1    13\n",
       "https://twitter.com/SDoughtyMP/status/1112818394703781889/photo/1          4\n",
       "https://twitter.com/JamesFrith/status/1111331228521779205/photo/1          4\n",
       "https://twitter.com/JamesCleverly/status/1112289204761972736/photo/1       4\n",
       "https://twitter.com/rtenews/status/1110826776408870912/video/1             4\n",
       "https://twitter.com/halfon4harlowMP/status/1101109277157150722/photo/1     4\n",
       "https://twitter.com/CatMcKinnell/status/1109485831562162176/photo/1        4\n",
       "https://twitter.com/GavNewlandsSNP/status/1108849524641091584/photo/1      4\n",
       "https://twitter.com/Mike_Fabricant/status/1113089556469944320/photo/1      4\n",
       "https://twitter.com/ChrisHazzardSF/status/1112099363071934472/photo/1      4\n",
       "https://twitter.com/SDoughtyMP/status/1108856758796251139/photo/1          4\n",
       "https://twitter.com/AngelaCrawley30/status/1110850129895088128/photo/1     4\n",
       "https://twitter.com/HoCPress/status/1105943273707892737/photo/1            4\n",
       "https://twitter.com/SDoughtyMP/status/1109461333408468994/photo/1          4\n",
       "https://twitter.com/Mike_Fabricant/status/1110307946326560772/photo/1      4\n",
       "https://twitter.com/thomasbrake/status/1107363473053241344/photo/1         3\n",
       "https://twitter.com/halfon4harlowMP/status/1112711325988331521/video/1     3\n",
       "https://twitter.com/CarolineFlintMP/status/1109374576667119616/photo/1     3\n",
       "https://twitter.com/ChiOnwurah/status/1112711966861217801/photo/1          3\n",
       "https://twitter.com/halfon4harlowMP/status/1112592490773823488/photo/1     3\n",
       "https://twitter.com/traquir/status/1109860989938225152/photo/1             3\n",
       "https://twitter.com/JamesFrith/status/1112410335296798721/photo/1          3\n",
       "https://twitter.com/MattCartoonist/status/1117093236093476866/photo/1      3\n",
       "https://twitter.com/thomasbrake/status/1101172219806470145/photo/1         3\n",
       "https://twitter.com/Jeremy_Hunt/status/1107646745230626816/photo/1         3\n",
       "https://twitter.com/Anna_Soubry/status/1109820940723126272/photo/1         3\n",
       "https://twitter.com/GradySNP/status/1107326779738521601/photo/1            3\n",
       "https://twitter.com/ChiOnwurah/status/1106675088269721602/photo/1          3\n",
       "https://twitter.com/CMonaghanSNP/status/1109176628024889345/photo/1        3\n",
       "https://twitter.com/CPJElmore/status/1111626030320619520/photo/1           3\n",
       "                                                                          ..\n",
       "https://twitter.com/EdwardLeighMP/status/1105476954835292160/video/1       1\n",
       "https://twitter.com/JoStevensLabour/status/1101519562594504704/video/1     1\n",
       "https://twitter.com/CarolineLucas/status/1100425869456220167/photo/1       1\n",
       "https://twitter.com/ChrisLeslieMP/status/1113464887940976641/photo/1       1\n",
       "https://twitter.com/Eleanor_SmithMP/status/1108381511395561472/photo/1     1\n",
       "https://twitter.com/EdwardLeighMP/status/1101160638217404417/photo/1       1\n",
       "https://twitter.com/ChrisLeslieMP/status/1103372129037373440/video/1       1\n",
       "https://twitter.com/joanryanEnfield/status/1105834746838478851/video/1     1\n",
       "https://twitter.com/ChrisHazzardSF/status/1113877320803278848/photo/1      1\n",
       "https://twitter.com/SDoughtyMP/status/1115375623080435717/photo/1          1\n",
       "https://twitter.com/Mike_Fabricant/status/1105759322640916481/photo/1      1\n",
       "https://twitter.com/MattSL/status/1105165999786078208/photo/1              1\n",
       "https://twitter.com/SDoughtyMP/status/1108870150281928704/photo/1          1\n",
       "https://twitter.com/hbaldwin/status/1111548704018890752/photo/1            1\n",
       "https://twitter.com/HelenJonesMP/status/1113026131408584704/photo/1        1\n",
       "https://twitter.com/PGibsonSNP/status/1108991666596265984/photo/1          1\n",
       "https://twitter.com/PaulJSweeney/status/1110658939329437697/photo/1        1\n",
       "https://twitter.com/fifetourism/status/1112743894779858944/video/1         1\n",
       "https://twitter.com/Anna_Soubry/status/1109485151904587776/photo/1         1\n",
       "https://twitter.com/karinsmyth/status/1113829188312735744/video/1          1\n",
       "https://twitter.com/DougChapmanSNP/status/1111399091152408578/photo/1      1\n",
       "https://twitter.com/ronniecowan/status/1102900335012663296/video/1         1\n",
       "https://twitter.com/ronniecowan/status/1115201935844478978/photo/1         1\n",
       "https://twitter.com/nisarmir21/status/1105607468967587841/video/1          1\n",
       "https://twitter.com/GavNewlandsSNP/status/1111642915611262976/photo/1      1\n",
       "https://twitter.com/bbc5live/status/1116235792450560001/photo/1            1\n",
       "https://twitter.com/MartWhitfieldMP/status/1105814377121357824/video/1     1\n",
       "https://twitter.com/SDoughtyMP/status/1105109653288042496/video/1          1\n",
       "https://twitter.com/AngusMacNeilSNP/status/1100379751980642305/photo/1     1\n",
       "https://twitter.com/Anna_Soubry/status/1112727573967048704/photo/1         1\n",
       "Length: 604, dtype: int64"
      ]
     },
     "execution_count": 26,
     "metadata": {},
     "output_type": "execute_result"
    }
   ],
   "source": [
    "mp_tweets.media.fillna(value=\"\", inplace=True)\n",
    "count_keywords(mp_tweets.media).value_counts()"
   ]
  },
  {
   "cell_type": "code",
   "execution_count": 27,
   "metadata": {},
   "outputs": [
    {
     "ename": "ValueError",
     "evalue": "cannot insert date, already exists",
     "output_type": "error",
     "traceback": [
      "\u001b[0;31m---------------------------------------------------------------------------\u001b[0m",
      "\u001b[0;31mValueError\u001b[0m                                Traceback (most recent call last)",
      "\u001b[0;32m<ipython-input-27-8ecfa7b68e19>\u001b[0m in \u001b[0;36m<module>\u001b[0;34m()\u001b[0m\n\u001b[0;32m----> 1\u001b[0;31m \u001b[0mmp_tweets\u001b[0m\u001b[0;34m.\u001b[0m\u001b[0minsert\u001b[0m\u001b[0;34m(\u001b[0m\u001b[0;36m4\u001b[0m\u001b[0;34m,\u001b[0m \u001b[0;34m'date'\u001b[0m\u001b[0;34m,\u001b[0m \u001b[0mmp_tweets\u001b[0m\u001b[0;34m[\u001b[0m\u001b[0;34m'parsed_created_at'\u001b[0m\u001b[0;34m]\u001b[0m\u001b[0;34m.\u001b[0m\u001b[0mdt\u001b[0m\u001b[0;34m.\u001b[0m\u001b[0mdate\u001b[0m\u001b[0;34m)\u001b[0m\u001b[0;34m\u001b[0m\u001b[0;34m\u001b[0m\u001b[0m\n\u001b[0m\u001b[1;32m      2\u001b[0m \u001b[0mmp_tweets\u001b[0m\u001b[0;34m.\u001b[0m\u001b[0minsert\u001b[0m\u001b[0;34m(\u001b[0m\u001b[0;36m5\u001b[0m\u001b[0;34m,\u001b[0m \u001b[0;34m'time'\u001b[0m\u001b[0;34m,\u001b[0m \u001b[0mmp_tweets\u001b[0m\u001b[0;34m[\u001b[0m\u001b[0;34m'parsed_created_at'\u001b[0m\u001b[0;34m]\u001b[0m\u001b[0;34m.\u001b[0m\u001b[0mdt\u001b[0m\u001b[0;34m.\u001b[0m\u001b[0mtime\u001b[0m\u001b[0;34m)\u001b[0m\u001b[0;34m\u001b[0m\u001b[0;34m\u001b[0m\u001b[0m\n",
      "\u001b[0;32m/home/ubuntu/.local/lib/python3.6/site-packages/pandas/core/frame.py\u001b[0m in \u001b[0;36minsert\u001b[0;34m(self, loc, column, value, allow_duplicates)\u001b[0m\n\u001b[1;32m   3471\u001b[0m         \u001b[0mvalue\u001b[0m \u001b[0;34m=\u001b[0m \u001b[0mself\u001b[0m\u001b[0;34m.\u001b[0m\u001b[0m_sanitize_column\u001b[0m\u001b[0;34m(\u001b[0m\u001b[0mcolumn\u001b[0m\u001b[0;34m,\u001b[0m \u001b[0mvalue\u001b[0m\u001b[0;34m,\u001b[0m \u001b[0mbroadcast\u001b[0m\u001b[0;34m=\u001b[0m\u001b[0;32mFalse\u001b[0m\u001b[0;34m)\u001b[0m\u001b[0;34m\u001b[0m\u001b[0;34m\u001b[0m\u001b[0m\n\u001b[1;32m   3472\u001b[0m         self._data.insert(loc, column, value,\n\u001b[0;32m-> 3473\u001b[0;31m                           allow_duplicates=allow_duplicates)\n\u001b[0m\u001b[1;32m   3474\u001b[0m \u001b[0;34m\u001b[0m\u001b[0m\n\u001b[1;32m   3475\u001b[0m     \u001b[0;32mdef\u001b[0m \u001b[0massign\u001b[0m\u001b[0;34m(\u001b[0m\u001b[0mself\u001b[0m\u001b[0;34m,\u001b[0m \u001b[0;34m**\u001b[0m\u001b[0mkwargs\u001b[0m\u001b[0;34m)\u001b[0m\u001b[0;34m:\u001b[0m\u001b[0;34m\u001b[0m\u001b[0;34m\u001b[0m\u001b[0m\n",
      "\u001b[0;32m/home/ubuntu/.local/lib/python3.6/site-packages/pandas/core/internals/managers.py\u001b[0m in \u001b[0;36minsert\u001b[0;34m(self, loc, item, value, allow_duplicates)\u001b[0m\n\u001b[1;32m   1147\u001b[0m         \u001b[0;32mif\u001b[0m \u001b[0;32mnot\u001b[0m \u001b[0mallow_duplicates\u001b[0m \u001b[0;32mand\u001b[0m \u001b[0mitem\u001b[0m \u001b[0;32min\u001b[0m \u001b[0mself\u001b[0m\u001b[0;34m.\u001b[0m\u001b[0mitems\u001b[0m\u001b[0;34m:\u001b[0m\u001b[0;34m\u001b[0m\u001b[0;34m\u001b[0m\u001b[0m\n\u001b[1;32m   1148\u001b[0m             \u001b[0;31m# Should this be a different kind of error??\u001b[0m\u001b[0;34m\u001b[0m\u001b[0;34m\u001b[0m\u001b[0;34m\u001b[0m\u001b[0m\n\u001b[0;32m-> 1149\u001b[0;31m             \u001b[0;32mraise\u001b[0m \u001b[0mValueError\u001b[0m\u001b[0;34m(\u001b[0m\u001b[0;34m'cannot insert {}, already exists'\u001b[0m\u001b[0;34m.\u001b[0m\u001b[0mformat\u001b[0m\u001b[0;34m(\u001b[0m\u001b[0mitem\u001b[0m\u001b[0;34m)\u001b[0m\u001b[0;34m)\u001b[0m\u001b[0;34m\u001b[0m\u001b[0;34m\u001b[0m\u001b[0m\n\u001b[0m\u001b[1;32m   1150\u001b[0m \u001b[0;34m\u001b[0m\u001b[0m\n\u001b[1;32m   1151\u001b[0m         \u001b[0;32mif\u001b[0m \u001b[0;32mnot\u001b[0m \u001b[0misinstance\u001b[0m\u001b[0;34m(\u001b[0m\u001b[0mloc\u001b[0m\u001b[0;34m,\u001b[0m \u001b[0mint\u001b[0m\u001b[0;34m)\u001b[0m\u001b[0;34m:\u001b[0m\u001b[0;34m\u001b[0m\u001b[0;34m\u001b[0m\u001b[0m\n",
      "\u001b[0;31mValueError\u001b[0m: cannot insert date, already exists"
     ]
    }
   ],
   "source": [
    "mp_tweets.insert(4, 'date', mp_tweets['parsed_created_at'].dt.date)\n",
    "mp_tweets.insert(5, 'time', mp_tweets['parsed_created_at'].dt.time)"
   ]
  },
  {
   "cell_type": "code",
   "execution_count": null,
   "metadata": {},
   "outputs": [],
   "source": [
    "tweets_all.columns"
   ]
  },
  {
   "cell_type": "markdown",
   "metadata": {},
   "source": [
    "## Plotting"
   ]
  },
  {
   "cell_type": "code",
   "execution_count": null,
   "metadata": {},
   "outputs": [],
   "source": [
    "fbpe = pd.read_pickle('../../data/continuous_rehydrated/fbpe_df.pkl')\n",
    "fbpe.set_index('date', inplace=True)\n",
    "fbpe.head()"
   ]
  },
  {
   "cell_type": "code",
   "execution_count": null,
   "metadata": {},
   "outputs": [],
   "source": [
    "plt.figure(figsize=(20,10))\n",
    "#tweets_all.date.value_counts().plot(color='darkblue');\n",
    "#print(tweets_all.date)\n",
    "plot_df = pd.DataFrame([tweets_all.date.value_counts(),mp_tweets.index.value_counts(), fbpe.index.value_counts()], index=[\"all\", \"mps\", \"fbpe\"])\n",
    "plot_df.head()"
   ]
  },
  {
   "cell_type": "code",
   "execution_count": null,
   "metadata": {},
   "outputs": [],
   "source": [
    "#plot_df = plot_df.transpose()\n",
    "plot_df[\"all\"].plot(figsize=(20,10))#logy=True)\n",
    "#plot_df.mps.plot(figsize=(20,10), secondary_y=True)\n",
    "plot_df.mps.plot(figsize=(20,10), logy=True, color=\"orange\")\n",
    "\n",
    "plot_df.fbpe.plot(figsize=(20,10), logy=True, color=\"red\")"
   ]
  },
  {
   "cell_type": "code",
   "execution_count": null,
   "metadata": {},
   "outputs": [],
   "source": [
    "plot_df = pd.DataFrame([mp_tweets[mp_tweets.party == 'Conservative'].index.value_counts(), mp_tweets[mp_tweets.party == 'Labour'].index.value_counts(), mp_tweets[(mp_tweets.party != 'Conservative')&(mp_tweets.party != 'Labour')].index.value_counts()], index=[\"conservative\", \"labour\", \"other\"])\n",
    "plot_df.head()\n",
    "plot_df = plot_df.transpose()\n",
    "#plot_df[\"all\"].plot(figsize=(20,10))\n"
   ]
  },
  {
   "cell_type": "code",
   "execution_count": null,
   "metadata": {},
   "outputs": [],
   "source": [
    "plot_df.conservative.plot(figsize=(20,10), color=\"blue\")\n",
    "\n",
    "plot_df.labour.plot(figsize=(20,10), color=\"red\")\n",
    "plot_df.other.plot(figsize=(20,10), color=\"grey\")"
   ]
  },
  {
   "cell_type": "code",
   "execution_count": null,
   "metadata": {},
   "outputs": [],
   "source": [
    "plt.figure(figsize=(20,10))\n",
    "#mp_tweets.set_index('date', inplace=True)\n",
    "mp_tweets.index.value_counts().plot( color='darkcyan');"
   ]
  },
  {
   "cell_type": "code",
   "execution_count": null,
   "metadata": {},
   "outputs": [],
   "source": [
    "mp_tweets[mp_tweets.party == 'Labour'].date.value_counts().plot(figsize=(20,10), color='darkcyan');"
   ]
  },
  {
   "cell_type": "code",
   "execution_count": null,
   "metadata": {},
   "outputs": [],
   "source": [
    "ppl = tweets_all[tweets_all.text.str.contains(\"@\", na=False)]\n",
    "import re\n",
    "def find_mentions(text):\n",
    "    return re.findall(r'@[A-Za-z0-9_]+', text)\n",
    "\n",
    "mentions = ppl.text.apply(find_mentions)\n",
    "\n",
    "def count_column_values(column):\n",
    "    values = []\n",
    "    for row in column:\n",
    "        values.extend(row)\n",
    "    return pd.Series(values).value_counts()\n"
   ]
  },
  {
   "cell_type": "code",
   "execution_count": null,
   "metadata": {},
   "outputs": [],
   "source": [
    "ax = count_column_values(mentions)[0:10].iloc[::-1].plot.barh(figsize=(10,8), zorder=2, width=0.85)\n",
    "ax.spines['right'].set_visible(False)\n",
    "ax.spines['top'].set_visible(False)\n",
    "ax.spines['left'].set_visible(False)\n",
    "ax.spines['bottom'].set_visible(False)"
   ]
  },
  {
   "cell_type": "code",
   "execution_count": null,
   "metadata": {},
   "outputs": [],
   "source": [
    "plot_df = pd.DataFrame([mps.party.value_counts(),mp_tweets.party.value_counts()], index=[\"MPs in twitter\", \"Tweet instances\"])\n",
    "plot_df = plot_df.transpose()\n",
    "plot_df.head(10)"
   ]
  },
  {
   "cell_type": "code",
   "execution_count": null,
   "metadata": {},
   "outputs": [],
   "source": [
    "plot_df = plot_df.iloc[[0,1,2,4]]"
   ]
  },
  {
   "cell_type": "code",
   "execution_count": null,
   "metadata": {},
   "outputs": [],
   "source": [
    "fig = plt.figure()\n",
    "_ = plot_df.plot(kind='bar', subplots=True, rot=45)\n",
    "#x_axis = _.axes.get_xaxis()\n",
    "#x_axis\n",
    "#ax.set_xticklabels( range(0,N,10), rotation=45 )\n",
    "#fig.savefig('parties_tweeting.png')"
   ]
  }
 ],
 "metadata": {
  "kernelspec": {
   "display_name": "Python 3",
   "language": "python",
   "name": "python3"
  },
  "language_info": {
   "codemirror_mode": {
    "name": "ipython",
    "version": 3
   },
   "file_extension": ".py",
   "mimetype": "text/x-python",
   "name": "python",
   "nbconvert_exporter": "python",
   "pygments_lexer": "ipython3",
   "version": "3.6.7"
  }
 },
 "nbformat": 4,
 "nbformat_minor": 2
}
