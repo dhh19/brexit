{
 "cells": [
  {
   "cell_type": "code",
   "execution_count": 1,
   "metadata": {},
   "outputs": [
    {
     "data": {
      "text/plain": [
       "'/dhh19/home/brexit/work/jupyter'"
      ]
     },
     "execution_count": 1,
     "metadata": {},
     "output_type": "execute_result"
    }
   ],
   "source": [
    "import pandas as pd\n",
    "import os\n",
    "import matplotlib.pyplot as plt\n",
    "os.getcwd()"
   ]
  },
  {
   "cell_type": "code",
   "execution_count": 2,
   "metadata": {},
   "outputs": [],
   "source": [
    "tweets_all = pd.read_msgpack(\"../../data/continuous_rehydrated/all_tweets_df.msg\")"
   ]
  },
  {
   "cell_type": "code",
   "execution_count": 3,
   "metadata": {},
   "outputs": [
    {
     "data": {
      "text/plain": [
       "(3941653, 37)"
      ]
     },
     "execution_count": 3,
     "metadata": {},
     "output_type": "execute_result"
    }
   ],
   "source": [
    "tweets_all.shape"
   ]
  },
  {
   "cell_type": "code",
   "execution_count": 4,
   "metadata": {},
   "outputs": [
    {
     "data": {
      "text/html": [
       "<div>\n",
       "<style scoped>\n",
       "    .dataframe tbody tr th:only-of-type {\n",
       "        vertical-align: middle;\n",
       "    }\n",
       "\n",
       "    .dataframe tbody tr th {\n",
       "        vertical-align: top;\n",
       "    }\n",
       "\n",
       "    .dataframe thead th {\n",
       "        text-align: right;\n",
       "    }\n",
       "</style>\n",
       "<table border=\"1\" class=\"dataframe\">\n",
       "  <thead>\n",
       "    <tr style=\"text-align: right;\">\n",
       "      <th></th>\n",
       "      <th>id</th>\n",
       "      <th>tweet_url</th>\n",
       "      <th>created_at</th>\n",
       "      <th>parsed_created_at</th>\n",
       "      <th>user_screen_name</th>\n",
       "      <th>text</th>\n",
       "      <th>tweet_type</th>\n",
       "      <th>coordinates</th>\n",
       "      <th>hashtags</th>\n",
       "      <th>media</th>\n",
       "      <th>...</th>\n",
       "      <th>user_favourites_count</th>\n",
       "      <th>user_followers_count</th>\n",
       "      <th>user_friends_count</th>\n",
       "      <th>user_listed_count</th>\n",
       "      <th>user_location</th>\n",
       "      <th>user_name</th>\n",
       "      <th>user_statuses_count</th>\n",
       "      <th>user_time_zone</th>\n",
       "      <th>user_urls</th>\n",
       "      <th>user_verified</th>\n",
       "    </tr>\n",
       "  </thead>\n",
       "  <tbody>\n",
       "    <tr>\n",
       "      <th>0</th>\n",
       "      <td>1113806432334438400</td>\n",
       "      <td>https://twitter.com/CllrDuncanSmith/status/111...</td>\n",
       "      <td>Thu Apr 04 14:12:01 +0000 2019</td>\n",
       "      <td>2019-04-04 14:12:01+00:00</td>\n",
       "      <td>CllrDuncanSmith</td>\n",
       "      <td>RT @Domhannigan: I'm back Biking the Border, t...</td>\n",
       "      <td>retweet</td>\n",
       "      <td>None</td>\n",
       "      <td></td>\n",
       "      <td>None</td>\n",
       "      <td>...</td>\n",
       "      <td>5838</td>\n",
       "      <td>1866</td>\n",
       "      <td>1635</td>\n",
       "      <td>49</td>\n",
       "      <td>Swords, Ireland</td>\n",
       "      <td>Cllr Duncan Smith</td>\n",
       "      <td>9140</td>\n",
       "      <td>None</td>\n",
       "      <td>http://www.facebook.com/duncansmithswords</td>\n",
       "      <td>False</td>\n",
       "    </tr>\n",
       "    <tr>\n",
       "      <th>1</th>\n",
       "      <td>1113806436444921856</td>\n",
       "      <td>https://twitter.com/Bellboy1892/status/1113806...</td>\n",
       "      <td>Thu Apr 04 14:12:02 +0000 2019</td>\n",
       "      <td>2019-04-04 14:12:02+00:00</td>\n",
       "      <td>Bellboy1892</td>\n",
       "      <td>So there is a God 😂 #brexit https://t.co/xUzuL...</td>\n",
       "      <td>quote</td>\n",
       "      <td>None</td>\n",
       "      <td>brexit</td>\n",
       "      <td>None</td>\n",
       "      <td>...</td>\n",
       "      <td>2366</td>\n",
       "      <td>6578</td>\n",
       "      <td>6195</td>\n",
       "      <td>47</td>\n",
       "      <td>Newcastle</td>\n",
       "      <td>Toon Army</td>\n",
       "      <td>25290</td>\n",
       "      <td>None</td>\n",
       "      <td></td>\n",
       "      <td>False</td>\n",
       "    </tr>\n",
       "    <tr>\n",
       "      <th>2</th>\n",
       "      <td>1113806443935825923</td>\n",
       "      <td>https://twitter.com/gilmoremermoz/status/11138...</td>\n",
       "      <td>Thu Apr 04 14:12:04 +0000 2019</td>\n",
       "      <td>2019-04-04 14:12:04+00:00</td>\n",
       "      <td>gilmoremermoz</td>\n",
       "      <td>RT @joannaccherry: Correct. #CooperLetwinBill ...</td>\n",
       "      <td>retweet</td>\n",
       "      <td>None</td>\n",
       "      <td>CooperLetwinBill</td>\n",
       "      <td>None</td>\n",
       "      <td>...</td>\n",
       "      <td>21036</td>\n",
       "      <td>122</td>\n",
       "      <td>163</td>\n",
       "      <td>18</td>\n",
       "      <td>planet earth</td>\n",
       "      <td>brian gilmore</td>\n",
       "      <td>14560</td>\n",
       "      <td>None</td>\n",
       "      <td>http://mermozltd.co.uk</td>\n",
       "      <td>False</td>\n",
       "    </tr>\n",
       "    <tr>\n",
       "      <th>3</th>\n",
       "      <td>1113806446754508801</td>\n",
       "      <td>https://twitter.com/CarolJFW/status/1113806446...</td>\n",
       "      <td>Thu Apr 04 14:12:05 +0000 2019</td>\n",
       "      <td>2019-04-04 14:12:05+00:00</td>\n",
       "      <td>CarolJFW</td>\n",
       "      <td>RT @BenPBradshaw: Just to note, 203 Labour MPs...</td>\n",
       "      <td>retweet</td>\n",
       "      <td>None</td>\n",
       "      <td>Brexit</td>\n",
       "      <td>None</td>\n",
       "      <td>...</td>\n",
       "      <td>8490</td>\n",
       "      <td>940</td>\n",
       "      <td>1324</td>\n",
       "      <td>16</td>\n",
       "      <td>Somewhere in time</td>\n",
       "      <td>Carol Fellingham #FBPE</td>\n",
       "      <td>15423</td>\n",
       "      <td>None</td>\n",
       "      <td></td>\n",
       "      <td>False</td>\n",
       "    </tr>\n",
       "    <tr>\n",
       "      <th>4</th>\n",
       "      <td>1113806449807958023</td>\n",
       "      <td>https://twitter.com/TonysView_com/status/11138...</td>\n",
       "      <td>Thu Apr 04 14:12:05 +0000 2019</td>\n",
       "      <td>2019-04-04 14:12:05+00:00</td>\n",
       "      <td>TonysView_com</td>\n",
       "      <td>Stop #Brexit the roof is leaking 😁😂😂😂</td>\n",
       "      <td>original</td>\n",
       "      <td>None</td>\n",
       "      <td>Brexit</td>\n",
       "      <td>None</td>\n",
       "      <td>...</td>\n",
       "      <td>2042</td>\n",
       "      <td>2078</td>\n",
       "      <td>2374</td>\n",
       "      <td>3</td>\n",
       "      <td>Planet Earth</td>\n",
       "      <td>Tony</td>\n",
       "      <td>6763</td>\n",
       "      <td>None</td>\n",
       "      <td></td>\n",
       "      <td>False</td>\n",
       "    </tr>\n",
       "  </tbody>\n",
       "</table>\n",
       "<p>5 rows × 37 columns</p>\n",
       "</div>"
      ],
      "text/plain": [
       "                    id                                          tweet_url  \\\n",
       "0  1113806432334438400  https://twitter.com/CllrDuncanSmith/status/111...   \n",
       "1  1113806436444921856  https://twitter.com/Bellboy1892/status/1113806...   \n",
       "2  1113806443935825923  https://twitter.com/gilmoremermoz/status/11138...   \n",
       "3  1113806446754508801  https://twitter.com/CarolJFW/status/1113806446...   \n",
       "4  1113806449807958023  https://twitter.com/TonysView_com/status/11138...   \n",
       "\n",
       "                       created_at         parsed_created_at user_screen_name  \\\n",
       "0  Thu Apr 04 14:12:01 +0000 2019 2019-04-04 14:12:01+00:00  CllrDuncanSmith   \n",
       "1  Thu Apr 04 14:12:02 +0000 2019 2019-04-04 14:12:02+00:00      Bellboy1892   \n",
       "2  Thu Apr 04 14:12:04 +0000 2019 2019-04-04 14:12:04+00:00    gilmoremermoz   \n",
       "3  Thu Apr 04 14:12:05 +0000 2019 2019-04-04 14:12:05+00:00         CarolJFW   \n",
       "4  Thu Apr 04 14:12:05 +0000 2019 2019-04-04 14:12:05+00:00    TonysView_com   \n",
       "\n",
       "                                                text tweet_type coordinates  \\\n",
       "0  RT @Domhannigan: I'm back Biking the Border, t...    retweet        None   \n",
       "1  So there is a God 😂 #brexit https://t.co/xUzuL...      quote        None   \n",
       "2  RT @joannaccherry: Correct. #CooperLetwinBill ...    retweet        None   \n",
       "3  RT @BenPBradshaw: Just to note, 203 Labour MPs...    retweet        None   \n",
       "4              Stop #Brexit the roof is leaking 😁😂😂😂   original        None   \n",
       "\n",
       "           hashtags media  ... user_favourites_count  user_followers_count  \\\n",
       "0                    None  ...                  5838                  1866   \n",
       "1            brexit  None  ...                  2366                  6578   \n",
       "2  CooperLetwinBill  None  ...                 21036                   122   \n",
       "3            Brexit  None  ...                  8490                   940   \n",
       "4            Brexit  None  ...                  2042                  2078   \n",
       "\n",
       "  user_friends_count  user_listed_count      user_location  \\\n",
       "0               1635                 49    Swords, Ireland   \n",
       "1               6195                 47          Newcastle   \n",
       "2                163                 18       planet earth   \n",
       "3               1324                 16  Somewhere in time   \n",
       "4               2374                  3      Planet Earth    \n",
       "\n",
       "                user_name user_statuses_count user_time_zone  \\\n",
       "0       Cllr Duncan Smith                9140           None   \n",
       "1               Toon Army               25290           None   \n",
       "2           brian gilmore               14560           None   \n",
       "3  Carol Fellingham #FBPE               15423           None   \n",
       "4                    Tony                6763           None   \n",
       "\n",
       "                                   user_urls user_verified  \n",
       "0  http://www.facebook.com/duncansmithswords         False  \n",
       "1                                                    False  \n",
       "2                     http://mermozltd.co.uk         False  \n",
       "3                                                    False  \n",
       "4                                                    False  \n",
       "\n",
       "[5 rows x 37 columns]"
      ]
     },
     "execution_count": 4,
     "metadata": {},
     "output_type": "execute_result"
    }
   ],
   "source": [
    "tweets_all.head()"
   ]
  },
  {
   "cell_type": "code",
   "execution_count": 5,
   "metadata": {},
   "outputs": [],
   "source": [
    "# Select relevant columns\n",
    "tweets = tweets_all[['created_at', 'user_screen_name', 'user_location', 'lang', 'text', 'tweet_type', 'hashtags', 'favorite_count', 'retweet_count', 'user_created_at', 'user_name', 'user_verified']]"
   ]
  },
  {
   "cell_type": "code",
   "execution_count": 6,
   "metadata": {},
   "outputs": [
    {
     "data": {
      "text/plain": [
       "retweet     2837139\n",
       "original     699480\n",
       "reply        227365\n",
       "quote        177669\n",
       "Name: tweet_type, dtype: int64"
      ]
     },
     "execution_count": 6,
     "metadata": {},
     "output_type": "execute_result"
    }
   ],
   "source": [
    "tweets.tweet_type.value_counts()"
   ]
  },
  {
   "cell_type": "code",
   "execution_count": 7,
   "metadata": {},
   "outputs": [
    {
     "data": {
      "text/plain": [
       "<matplotlib.axes._subplots.AxesSubplot at 0x7ff8e34e9278>"
      ]
     },
     "execution_count": 7,
     "metadata": {},
     "output_type": "execute_result"
    },
    {
     "data": {
      "image/png": "[encoded data removed]",
      "text/plain": [
       "<Figure size 432x288 with 1 Axes>"
      ]
     },
     "metadata": {},
     "output_type": "display_data"
    }
   ],
   "source": [
    "tweets.tweet_type.value_counts().plot.bar()"
   ]
  },
  {
   "cell_type": "code",
   "execution_count": 8,
   "metadata": {},
   "outputs": [
    {
     "data": {
      "text/plain": [
       "15529"
      ]
     },
     "execution_count": 8,
     "metadata": {},
     "output_type": "execute_result"
    }
   ],
   "source": [
    "# select verified tweets\n",
    "ver_tweets = tweets[(tweets.user_verified.values == True)]\n",
    "# select unique tweeters and count\n",
    "len(ver_tweets.user_screen_name.unique())"
   ]
  },
  {
   "cell_type": "code",
   "execution_count": 9,
   "metadata": {},
   "outputs": [
    {
     "data": {
      "text/plain": [
       "(111516, 12)"
      ]
     },
     "execution_count": 9,
     "metadata": {},
     "output_type": "execute_result"
    }
   ],
   "source": [
    "ver_tweets.shape"
   ]
  },
  {
   "cell_type": "code",
   "execution_count": 10,
   "metadata": {},
   "outputs": [
    {
     "data": {
      "text/html": [
       "<div>\n",
       "<style scoped>\n",
       "    .dataframe tbody tr th:only-of-type {\n",
       "        vertical-align: middle;\n",
       "    }\n",
       "\n",
       "    .dataframe tbody tr th {\n",
       "        vertical-align: top;\n",
       "    }\n",
       "\n",
       "    .dataframe thead th {\n",
       "        text-align: right;\n",
       "    }\n",
       "</style>\n",
       "<table border=\"1\" class=\"dataframe\">\n",
       "  <thead>\n",
       "    <tr style=\"text-align: right;\">\n",
       "      <th></th>\n",
       "      <th>created_at</th>\n",
       "      <th>user_screen_name</th>\n",
       "      <th>user_location</th>\n",
       "      <th>lang</th>\n",
       "      <th>text</th>\n",
       "      <th>tweet_type</th>\n",
       "      <th>hashtags</th>\n",
       "      <th>favorite_count</th>\n",
       "      <th>retweet_count</th>\n",
       "      <th>user_created_at</th>\n",
       "      <th>user_name</th>\n",
       "      <th>user_verified</th>\n",
       "    </tr>\n",
       "  </thead>\n",
       "  <tbody>\n",
       "    <tr>\n",
       "      <th>29</th>\n",
       "      <td>Thu Apr 04 14:12:22 +0000 2019</td>\n",
       "      <td>VirginMedia_One</td>\n",
       "      <td>Ireland</td>\n",
       "      <td>en</td>\n",
       "      <td>RT @VirginMediaNews: The ‘B’ Word: What #Brexi...</td>\n",
       "      <td>retweet</td>\n",
       "      <td>Brexit TheBWord VMNews</td>\n",
       "      <td>0</td>\n",
       "      <td>4</td>\n",
       "      <td>Tue Mar 03 10:47:29 +0000 2009</td>\n",
       "      <td>Virgin Media One</td>\n",
       "      <td>True</td>\n",
       "    </tr>\n",
       "    <tr>\n",
       "      <th>68</th>\n",
       "      <td>Thu Apr 04 14:12:47 +0000 2019</td>\n",
       "      <td>merrionstreet</td>\n",
       "      <td>Dublin 2</td>\n",
       "      <td>en</td>\n",
       "      <td>An Taoiseach, Leo Varadkar greeting German Cha...</td>\n",
       "      <td>original</td>\n",
       "      <td>Brexit</td>\n",
       "      <td>78</td>\n",
       "      <td>20</td>\n",
       "      <td>Tue May 25 15:43:04 +0000 2010</td>\n",
       "      <td>MerrionStreet.ie</td>\n",
       "      <td>True</td>\n",
       "    </tr>\n",
       "    <tr>\n",
       "      <th>124</th>\n",
       "      <td>Thu Apr 04 14:11:14 +0000 2019</td>\n",
       "      <td>PeiroClaudia</td>\n",
       "      <td>Argentina</td>\n",
       "      <td>es</td>\n",
       "      <td>RT @AleCiroAlvarez: El #Brexit rompe el status...</td>\n",
       "      <td>retweet</td>\n",
       "      <td>Brexit</td>\n",
       "      <td>0</td>\n",
       "      <td>11</td>\n",
       "      <td>Mon Jan 02 19:52:13 +0000 2012</td>\n",
       "      <td>Claudia Peiro</td>\n",
       "      <td>True</td>\n",
       "    </tr>\n",
       "    <tr>\n",
       "      <th>150</th>\n",
       "      <td>Thu Apr 04 14:11:30 +0000 2019</td>\n",
       "      <td>RosieDuffield1</td>\n",
       "      <td>Canterbury, Kent.</td>\n",
       "      <td>en</td>\n",
       "      <td>My colleague @mdbuckley from @LabPeoplesVote i...</td>\n",
       "      <td>original</td>\n",
       "      <td>Brexit FinalSay PeoplesVote</td>\n",
       "      <td>11</td>\n",
       "      <td>13</td>\n",
       "      <td>Tue May 27 18:31:54 +0000 2014</td>\n",
       "      <td>Rosie Duffield MP</td>\n",
       "      <td>True</td>\n",
       "    </tr>\n",
       "    <tr>\n",
       "      <th>170</th>\n",
       "      <td>Thu Apr 04 14:11:46 +0000 2019</td>\n",
       "      <td>WilliamsJon</td>\n",
       "      <td>Dublin, Ireland</td>\n",
       "      <td>en</td>\n",
       "      <td>Taoiseach welcomes German Chancellor Angela Me...</td>\n",
       "      <td>original</td>\n",
       "      <td>Brexit</td>\n",
       "      <td>2</td>\n",
       "      <td>2</td>\n",
       "      <td>Mon Apr 21 09:56:28 +0000 2008</td>\n",
       "      <td>Jon Williams</td>\n",
       "      <td>True</td>\n",
       "    </tr>\n",
       "  </tbody>\n",
       "</table>\n",
       "</div>"
      ],
      "text/plain": [
       "                         created_at user_screen_name      user_location lang  \\\n",
       "29   Thu Apr 04 14:12:22 +0000 2019  VirginMedia_One            Ireland   en   \n",
       "68   Thu Apr 04 14:12:47 +0000 2019    merrionstreet           Dublin 2   en   \n",
       "124  Thu Apr 04 14:11:14 +0000 2019     PeiroClaudia          Argentina   es   \n",
       "150  Thu Apr 04 14:11:30 +0000 2019   RosieDuffield1  Canterbury, Kent.   en   \n",
       "170  Thu Apr 04 14:11:46 +0000 2019      WilliamsJon    Dublin, Ireland   en   \n",
       "\n",
       "                                                  text tweet_type  \\\n",
       "29   RT @VirginMediaNews: The ‘B’ Word: What #Brexi...    retweet   \n",
       "68   An Taoiseach, Leo Varadkar greeting German Cha...   original   \n",
       "124  RT @AleCiroAlvarez: El #Brexit rompe el status...    retweet   \n",
       "150  My colleague @mdbuckley from @LabPeoplesVote i...   original   \n",
       "170  Taoiseach welcomes German Chancellor Angela Me...   original   \n",
       "\n",
       "                        hashtags  favorite_count  retweet_count  \\\n",
       "29        Brexit TheBWord VMNews               0              4   \n",
       "68                        Brexit              78             20   \n",
       "124                       Brexit               0             11   \n",
       "150  Brexit FinalSay PeoplesVote              11             13   \n",
       "170                       Brexit               2              2   \n",
       "\n",
       "                    user_created_at          user_name  user_verified  \n",
       "29   Tue Mar 03 10:47:29 +0000 2009   Virgin Media One           True  \n",
       "68   Tue May 25 15:43:04 +0000 2010   MerrionStreet.ie           True  \n",
       "124  Mon Jan 02 19:52:13 +0000 2012      Claudia Peiro           True  \n",
       "150  Tue May 27 18:31:54 +0000 2014  Rosie Duffield MP           True  \n",
       "170  Mon Apr 21 09:56:28 +0000 2008       Jon Williams           True  "
      ]
     },
     "execution_count": 10,
     "metadata": {},
     "output_type": "execute_result"
    }
   ],
   "source": [
    "ver_tweets.head()"
   ]
  },
  {
   "cell_type": "code",
   "execution_count": 11,
   "metadata": {},
   "outputs": [],
   "source": [
    "from itertools import combinations\n",
    "from collections import Counter\n",
    "\n",
    "# count hashtag combinations, excludes brexit\n",
    "def count_hashtag_combinations(total_df):\n",
    "    pairs = Counter()\n",
    "    for x in total_df[\"hashtags\"]:\n",
    "        pairs.update(list(combinations([y for y in filter(lambda i: i!=\"Brexit\" and i != \"brexit\", x.split())],2)))\n",
    "    return pairs.most_common(50)"
   ]
  },
  {
   "cell_type": "code",
   "execution_count": 12,
   "metadata": {},
   "outputs": [
    {
     "data": {
      "text/plain": [
       "[(('UK', 'EU'), 327),\n",
       " (('MNA_English', 'MNA'), 300),\n",
       " (('EU', 'UK'), 176),\n",
       " (('May', 'EU'), 151),\n",
       " (('EU', 'illner'), 129),\n",
       " (('BrexitVote', 'BrexitDeal'), 95),\n",
       " (('EUCO', 'Article50'), 95),\n",
       " (('EU', 'BrexitVote'), 90),\n",
       " (('EU', 'NoDeal'), 90),\n",
       " (('Britain', 'MNA_English'), 89),\n",
       " (('Britain', 'MNA'), 87),\n",
       " (('PeoplesVote', 'PutItToThePeople'), 83),\n",
       " (('NoDeal', 'illner'), 81),\n",
       " (('EU', 'BrexitDeal'), 79),\n",
       " (('UK', 'TheresaMay'), 75),\n",
       " (('EU', 'EU'), 75),\n",
       " (('EUCO', 'EUelections2019'), 75),\n",
       " (('British', 'MNA_English'), 72),\n",
       " (('TheresaMay', 'EU'), 71),\n",
       " (('British', 'MNA'), 70),\n",
       " (('Macron', 'Merkel'), 69),\n",
       " (('May', 'Corbyn'), 69),\n",
       " (('Merkel', 'EU'), 67),\n",
       " (('EuropeanUnion', 'MNA_English'), 63),\n",
       " (('EuropeanUnion', 'MNA'), 63),\n",
       " (('NoDeal', 'BrexitVote'), 63),\n",
       " (('Britain', 'EU'), 61),\n",
       " (('Macron', 'EU'), 61),\n",
       " (('NoDeal', 'BrexitDeal'), 57),\n",
       " (('EU', 'TheresaMay'), 56),\n",
       " (('EU', 'May'), 55),\n",
       " (('PutItToThePeople', 'PeoplesVote'), 55),\n",
       " (('UK', 'MNA_English'), 54),\n",
       " (('UK', 'MNA'), 54),\n",
       " (('EU', 'Referendum'), 54),\n",
       " (('новости', 'новини'), 53),\n",
       " (('Macron', 'EUGipfel'), 52),\n",
       " (('Macron', 'illner'), 49),\n",
       " (('EU', 'Großbritannien'), 48),\n",
       " (('Orban', 'Macron'), 48),\n",
       " (('NRTnews', 'UK'), 47),\n",
       " (('Orban', 'EUGipfel'), 47),\n",
       " (('Orban', 'Merkel'), 47),\n",
       " (('EUGipfel', 'Merkel'), 47),\n",
       " (('NRTnews', 'EU'), 46),\n",
       " (('BrexitVote', 'illner'), 46),\n",
       " (('BrexitDeal', 'illner'), 46),\n",
       " (('Britain', 'EuropeanUnion'), 46),\n",
       " (('Großbritannien', 'EU'), 46),\n",
       " (('FinalSay', 'PeoplesVote'), 45)]"
      ]
     },
     "execution_count": 12,
     "metadata": {},
     "output_type": "execute_result"
    }
   ],
   "source": [
    "count_hashtag_combinations(ver_tweets)"
   ]
  },
  {
   "cell_type": "code",
   "execution_count": 13,
   "metadata": {},
   "outputs": [
    {
     "data": {
      "text/plain": [
       "[(('EU', 'PeoplesVote'), 8487),\n",
       " (('UK', 'EU'), 7983),\n",
       " (('PeoplesVote', 'FinalSay'), 6902),\n",
       " (('Marr', 'PeoplesVote'), 5911),\n",
       " (('Conservative', 'Labour'), 5831),\n",
       " (('EU', 'FinalSay'), 5823),\n",
       " (('EU', 'UK'), 5762),\n",
       " (('EU', 'RevokeArticle50'), 5696),\n",
       " (('Conservative', 'TheBrexitParty'), 5134),\n",
       " (('Labour', 'TheBrexitParty'), 5017),\n",
       " (('PeoplesVote', 'PutItToThePeople'), 4892),\n",
       " (('PeoplesVote', 'RevokeArticle50'), 4463),\n",
       " (('LeaveMeansLeave', 'FBPE'), 4295),\n",
       " (('GTTO', 'FBPE'), 4286),\n",
       " (('lbc', 'fbpe'), 4253),\n",
       " (('GTTO', 'LeaveMeansLeave'), 4251),\n",
       " (('RevokeArticle50', 'PeoplesVote'), 4243),\n",
       " (('RevokeArt50', 'NoDeal'), 4093),\n",
       " (('TheresaMay', 'BrexitShambles'), 4071),\n",
       " (('theresamaystatement', 'RevokeArticle50'), 4057),\n",
       " (('StrongAndStable', 'RevokeArticle50'), 4056),\n",
       " (('theresamaystatement', 'StrongAndStable'), 4055),\n",
       " (('PutItToThePeople', 'PeoplesVote'), 3471),\n",
       " (('fbpe', 'conservatives'), 3402),\n",
       " (('PeoplesVote', 'BrexitBallot'), 3324),\n",
       " (('lbc', 'conservatives'), 3324),\n",
       " (('FinalSay', 'BrexitBallot'), 3321),\n",
       " (('PeoplesVote', 'StopBrexit'), 3130),\n",
       " (('FBPE', 'PeoplesVote'), 3099),\n",
       " (('EU', 'BrexitVote'), 2890),\n",
       " (('RevokeArticle50', 'FBPE'), 2742),\n",
       " (('conservatives', 'labour'), 2707),\n",
       " (('fbpe', 'labour'), 2651),\n",
       " (('BrexitVote', 'BrexitShambles'), 2637),\n",
       " (('TheresaMay', 'EU'), 2630),\n",
       " (('gold', 'silver'), 2596),\n",
       " (('brexshit', 'FBPE'), 2584),\n",
       " (('lbc', 'labour'), 2574),\n",
       " (('stocks', 'trading'), 2568),\n",
       " (('gold', 'stocks'), 2567),\n",
       " (('silver', 'stocks'), 2566),\n",
       " (('PeoplesVote', 'FBPE'), 2547),\n",
       " (('StopBrexit', 'FBPE'), 2546),\n",
       " (('FBPE', 'stopbrexit'), 2529),\n",
       " (('trading', 'money'), 2521),\n",
       " (('trading', 'markets'), 2501),\n",
       " (('gold', 'trading'), 2493),\n",
       " (('gold', 'trades'), 2491),\n",
       " (('trading', 'trades'), 2491),\n",
       " (('silver', 'trading'), 2490)]"
      ]
     },
     "execution_count": 13,
     "metadata": {},
     "output_type": "execute_result"
    }
   ],
   "source": [
    "count_hashtag_combinations(tweets)"
   ]
  },
  {
   "cell_type": "code",
   "execution_count": 14,
   "metadata": {},
   "outputs": [],
   "source": [
    "def count_hashtags(df):\n",
    "    hashtags = []\n",
    "    for x in df[\"hashtags\"]:\n",
    "        hashtags.extend(x.split())\n",
    "    return hashtags"
   ]
  },
  {
   "cell_type": "code",
   "execution_count": 15,
   "metadata": {},
   "outputs": [
    {
     "data": {
      "text/plain": [
       "Brexit                  83464\n",
       "brexit                  10087\n",
       "EU                       3148\n",
       "UK                       1698\n",
       "EUCO                     1679\n",
       "TheresaMay               1503\n",
       "May                      1431\n",
       "PeoplesVote              1223\n",
       "BREXIT                    781\n",
       "BrexitVote                718\n",
       "NoDeal                    712\n",
       "PeoplesVoteMarch          695\n",
       "UE                        665\n",
       "Article50                 543\n",
       "BrexitShambles            522\n",
       "Europe                    465\n",
       "Britain                   423\n",
       "Merkel                    403\n",
       "RevokeArticle50           390\n",
       "WithdrawalAgreement       363\n",
       "London                    349\n",
       "Labour                    334\n",
       "BREAKING                  331\n",
       "PutItToThePeople          330\n",
       "BrexitDeal                328\n",
       "backstop                  324\n",
       "MNA_English               323\n",
       "MNA                       320\n",
       "BrexitDay                 320\n",
       "ReinoUnido                311\n",
       "                        ...  \n",
       "Scotland                  125\n",
       "Parliament                125\n",
       "Unterhaus                 125\n",
       "tomorrowspaperstoday      123\n",
       "Tusk                      122\n",
       "Juncker                   122\n",
       "MeaningfulVote            119\n",
       "politics                  118\n",
       "BrexitDelay               118\n",
       "Strasbourg                115\n",
       "Europawahl                115\n",
       "RevokeArt50               112\n",
       "podcast                   104\n",
       "DUP                       102\n",
       "GBP                       101\n",
       "cdanslair                  98\n",
       "indyref2                   93\n",
       "PrepareForEUExit           93\n",
       "UniónEuropea               92\n",
       "Bercow                     91\n",
       "BKNT                       91\n",
       "CapitalReports             91\n",
       "EP2019                     89\n",
       "GBPUSD                     87\n",
       "business                   87\n",
       "politicslive               87\n",
       "GAC                        85\n",
       "remain                     85\n",
       "Gibraltar                  82\n",
       "UnitedKingdom              79\n",
       "Length: 100, dtype: int64"
      ]
     },
     "execution_count": 15,
     "metadata": {},
     "output_type": "execute_result"
    }
   ],
   "source": [
    "# count hashtags for verified tweets\n",
    "hashtag_counts = pd.Series(count_hashtags(ver_tweets)).value_counts()\n",
    "hashtag_counts[0:100]"
   ]
  },
  {
   "cell_type": "code",
   "execution_count": 16,
   "metadata": {},
   "outputs": [
    {
     "data": {
      "text/plain": [
       "Brexit                    2191946\n",
       "brexit                     421068\n",
       "PeoplesVote                108694\n",
       "EU                          99467\n",
       "RevokeArticle50             71709\n",
       "PeoplesVoteMarch            47952\n",
       "UK                          42088\n",
       "TheresaMay                  40342\n",
       "BrexitShambles              36079\n",
       "BREXIT                      34013\n",
       "NoDeal                      29233\n",
       "BrexitVote                  27411\n",
       "Labour                      27141\n",
       "FinalSay                    22421\n",
       "Leave                       22398\n",
       "BrexitBetrayal              21570\n",
       "EUCO                        21281\n",
       "FBPE                        20133\n",
       "PutItToThePeople            19845\n",
       "Remain                      19793\n",
       "May                         19062\n",
       "Marr                        17906\n",
       "LeaveMeansLeave             17160\n",
       "WithdrawalAgreement         16492\n",
       "StopBrexit                  14794\n",
       "BrexitChaos                 14218\n",
       "Article50                   13477\n",
       "NoDealBrexit                12371\n",
       "BrexitDay                   11797\n",
       "RevokeArt50                 11431\n",
       "                           ...   \n",
       "bloodyidiot                     1\n",
       "vbl                             1\n",
       "ISBrides                        1\n",
       "NoCheeseCakes                   1\n",
       "pawsbrexit                      1\n",
       "cobre                           1\n",
       "ServirePopulo                   1\n",
       "EENA2019                        1\n",
       "populistisch                    1\n",
       "ThinkOfThePositives             1\n",
       "FPJ                             1\n",
       "AwfulDeal                       1\n",
       "freefilm                        1\n",
       "hetgrotestageboek               1\n",
       "abo                             1\n",
       "injezzawetrust                  1\n",
       "Rental                          1\n",
       "SORRYVEGANS                     1\n",
       "DFBTeam                         1\n",
       "youfailed                       1\n",
       "PHON                            1\n",
       "groundswell                     1\n",
       "Streetview                      1\n",
       "CSNConf19                       1\n",
       "get_out_of_your_bubble          1\n",
       "LoveInSpades                    1\n",
       "needwesaymore                   1\n",
       "fridayfunny                     1\n",
       "Werte                           1\n",
       "LeadStopFollowing               1\n",
       "Length: 175881, dtype: int64"
      ]
     },
     "execution_count": 16,
     "metadata": {},
     "output_type": "execute_result"
    }
   ],
   "source": [
    "# all tweets\n",
    "all_hashtags = count_hashtags(tweets)\n",
    "pd.Series(all_hashtags).value_counts()"
   ]
  },
  {
   "cell_type": "code",
   "execution_count": 17,
   "metadata": {},
   "outputs": [
    {
     "name": "stdout",
     "output_type": "stream",
     "text": [
      "0                                                         []\n",
      "1                                                   [brexit]\n",
      "2                                         [CooperLetwinBill]\n",
      "3                                                   [Brexit]\n",
      "4                                                   [Brexit]\n",
      "5                                                   [brexit]\n",
      "6                                          [RevokeArticle50]\n",
      "7                                                   [Brexit]\n",
      "8                                                         []\n",
      "9                                           [Brexit, Brexit]\n",
      "10                                                  [Brexit]\n",
      "11                                                  [Brexit]\n",
      "12                                                  [Brexit]\n",
      "13                                             [May, Brexit]\n",
      "14                  [HouseOfCommons, Brexit, BrexitShambles]\n",
      "15                                                  [Brexit]\n",
      "16                                                  [Brexit]\n",
      "17         [veggie, EU, food, EU, climatechange, sustaina...\n",
      "18                                            [YvetteCooper]\n",
      "19                                                        []\n",
      "20                                                        []\n",
      "21                                       [Remainers, Brexit]\n",
      "22                           [Brexit, UK, UnitedKingdom, EU]\n",
      "23                                                  [Brexit]\n",
      "24                                                  [Brexit]\n",
      "25                                                        []\n",
      "26                                                  [Brexit]\n",
      "27                                                  [Brexit]\n",
      "28                                                  [Brexit]\n",
      "29                                [Brexit, TheBWord, VMNews]\n",
      "                                 ...                        \n",
      "3941623                                             [brexit]\n",
      "3941624                                             [Brexit]\n",
      "3941625                                             [Brexit]\n",
      "3941626                                                   []\n",
      "3941627                                             [Brexit]\n",
      "3941628                                             [brexit]\n",
      "3941629                                             [Brexit]\n",
      "3941630                                             [Brexit]\n",
      "3941631                                   [RO2019EU, Brexit]\n",
      "3941632                                             [BREXIT]\n",
      "3941633                                                   []\n",
      "3941634                [Dublin, Brexit, Taoiseach, Tusk, EU]\n",
      "3941635                                                   []\n",
      "3941636                                                   []\n",
      "3941637                                             [Brexit]\n",
      "3941638                                             [Brexit]\n",
      "3941639                                             [Brexit]\n",
      "3941640                                             [Brexit]\n",
      "3941641                                             [Brexit]\n",
      "3941642                                                   []\n",
      "3941643                                             [Brexit]\n",
      "3941644                      [CercledesExportateurs, Brexit]\n",
      "3941645                            [Brexit, RevokeArticle50]\n",
      "3941646                                             [Brexit]\n",
      "3941647                                          [democracy]\n",
      "3941648                                             [Brexit]\n",
      "3941649                                             [Brexit]\n",
      "3941650                                     [UPDATE, Brexit]\n",
      "3941651                                                   []\n",
      "3941652                          [Brexit, London, Amsterdam]\n",
      "Name: hashtags, Length: 3941653, dtype: object\n"
     ]
    }
   ],
   "source": [
    "hashtags = tweets['hashtags'].str.split(\" \")\n",
    "print(hashtags)"
   ]
  },
  {
   "cell_type": "code",
   "execution_count": 18,
   "metadata": {},
   "outputs": [],
   "source": [
    "from gensim.models import Word2Vec\n",
    "model_ted = Word2Vec(sentences=hashtags, size=100, window=5, min_count=5, workers=4, sg=0)"
   ]
  },
  {
   "cell_type": "code",
   "execution_count": 19,
   "metadata": {},
   "outputs": [
    {
     "data": {
      "text/plain": [
       "[('uklabour', 0.7133209109306335),\n",
       " ('libdems', 0.7061014175415039),\n",
       " ('conservative', 0.6992520093917847),\n",
       " ('greenparty', 0.6825024485588074),\n",
       " ('conservatives', 0.6766924858093262),\n",
       " ('rightwing', 0.6680997014045715),\n",
       " ('labourparty', 0.6674301028251648),\n",
       " ('Therasa', 0.6635183691978455),\n",
       " ('Labour', 0.6633801460266113),\n",
       " ('snp', 0.6597214937210083),\n",
       " ('LabourParty', 0.6489413976669312),\n",
       " ('JHB4PM', 0.6381398439407349),\n",
       " ('ConfirmatoryVote', 0.6354794502258301),\n",
       " ('tories', 0.634523868560791),\n",
       " ('useless', 0.6310630440711975),\n",
       " ('generalelection', 0.6187524795532227),\n",
       " ('independentgroup', 0.6078124046325684),\n",
       " ('Labor', 0.6041070222854614),\n",
       " ('plaidcymru', 0.5975005030632019),\n",
       " ('fbpe', 0.5885273218154907)]"
      ]
     },
     "execution_count": 19,
     "metadata": {},
     "output_type": "execute_result"
    }
   ],
   "source": [
    "model_ted.wv.most_similar([\"labour\"], topn=20)"
   ]
  },
  {
   "cell_type": "code",
   "execution_count": 20,
   "metadata": {},
   "outputs": [
    {
     "data": {
      "text/plain": [
       "[('motivation', 0.9408491253852844),\n",
       " ('smile', 0.922325611114502),\n",
       " ('fringetheatre', 0.913216769695282),\n",
       " ('friday', 0.9101519584655762),\n",
       " ('learning', 0.909091055393219),\n",
       " ('passion', 0.899132490158081),\n",
       " ('entrepreneurship', 0.898766815662384),\n",
       " ('exercise', 0.8971279859542847),\n",
       " ('merry', 0.891100287437439),\n",
       " ('majorobstacle', 0.8906512260437012),\n",
       " ('vision', 0.8898980021476746),\n",
       " ('shopping', 0.8879775404930115),\n",
       " ('expectations', 0.8840426206588745),\n",
       " ('inspiration', 0.8834505081176758),\n",
       " ('friends', 0.8820487856864929),\n",
       " ('growthmindset', 0.8789578080177307),\n",
       " ('wisdom', 0.8789389133453369),\n",
       " ('advertising', 0.8774757981300354),\n",
       " ('kindle', 0.876652717590332),\n",
       " ('Android', 0.8764798045158386)]"
      ]
     },
     "execution_count": 20,
     "metadata": {},
     "output_type": "execute_result"
    }
   ],
   "source": [
    "model_ted.wv.most_similar([\"happy\"], topn=20)"
   ]
  },
  {
   "cell_type": "code",
   "execution_count": 21,
   "metadata": {},
   "outputs": [
    {
     "data": {
      "text/plain": [
       "[('supportUKIrishfishingindustry', 0.7747292518615723),\n",
       " ('euref', 0.74394690990448),\n",
       " ('buylocal', 0.735622763633728),\n",
       " ('eatmorefish', 0.7199576497077942),\n",
       " ('hypocrisy', 0.71399986743927),\n",
       " ('takebackcontrol', 0.712664783000946),\n",
       " ('lexit', 0.7071259617805481),\n",
       " ('corrupt', 0.6922165155410767),\n",
       " ('johnredwood', 0.6855576038360596),\n",
       " ('elite', 0.68415766954422),\n",
       " ('bias', 0.6778982877731323),\n",
       " ('treason', 0.6721265316009521),\n",
       " ('scaremongering', 0.6637699604034424),\n",
       " ('remainers', 0.6630709171295166),\n",
       " ('willofthepeople', 0.6612780690193176),\n",
       " ('pathetic', 0.6585043668746948),\n",
       " ('projectfear', 0.6575213074684143),\n",
       " ('peoplesVote', 0.6567589640617371),\n",
       " ('nottinghamshireleavers', 0.651882529258728),\n",
       " ('BuyBritish4Brexit', 0.6489519476890564),\n",
       " ('liars', 0.6473318338394165),\n",
       " ('leavers', 0.6456931233406067),\n",
       " ('facts', 0.6445697546005249),\n",
       " ('voted', 0.644136905670166),\n",
       " ('RemainEU', 0.6436672210693359),\n",
       " ('Nottingham', 0.6416668891906738),\n",
       " ('Disgraceful', 0.6414835453033447),\n",
       " ('undemocratic', 0.6399416923522949),\n",
       " ('brexiteers', 0.6364123821258545),\n",
       " ('nottingham', 0.6356057524681091),\n",
       " ('March4Democracy', 0.634885847568512),\n",
       " ('EuRef', 0.6334813833236694),\n",
       " ('biased', 0.6321901082992554),\n",
       " ('thewillofthepeople', 0.631378173828125),\n",
       " ('constituency', 0.6292499303817749),\n",
       " ('treachery', 0.6282470226287842),\n",
       " ('out', 0.6263211965560913),\n",
       " ('leaveeu', 0.6242196559906006),\n",
       " ('traitor', 0.623999834060669),\n",
       " ('lies', 0.6234230995178223),\n",
       " ('Countryfile', 0.6233977675437927),\n",
       " ('brexiters', 0.6233351230621338),\n",
       " ('traitors', 0.6224460005760193),\n",
       " ('Bremain', 0.6222246289253235),\n",
       " ('dictatorship', 0.6221151351928711),\n",
       " ('Wigan', 0.6210451126098633),\n",
       " ('remainer', 0.620265007019043),\n",
       " ('takingbackcontrol', 0.6196054220199585),\n",
       " ('JohnCurtice', 0.6190347075462341),\n",
       " ('Hypocrites', 0.6176981925964355)]"
      ]
     },
     "execution_count": 21,
     "metadata": {},
     "output_type": "execute_result"
    }
   ],
   "source": [
    "model_ted.wv.most_similar([\"betrayal\"], topn=50)"
   ]
  }
 ],
 "metadata": {
  "kernelspec": {
   "display_name": "Python 3",
   "language": "python",
   "name": "python3"
  },
  "language_info": {
   "codemirror_mode": {
    "name": "ipython",
    "version": 3
   },
   "file_extension": ".py",
   "mimetype": "text/x-python",
   "name": "python",
   "nbconvert_exporter": "python",
   "pygments_lexer": "ipython3",
   "version": "3.6.7"
  }
 },
 "nbformat": 4,
 "nbformat_minor": 2
}
