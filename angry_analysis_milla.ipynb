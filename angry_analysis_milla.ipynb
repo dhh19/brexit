{
 "cells": [
  {
   "cell_type": "code",
   "execution_count": 1,
   "metadata": {},
   "outputs": [],
   "source": [
    "import pandas as pd\n",
    "import re"
   ]
  },
  {
   "cell_type": "code",
   "execution_count": 2,
   "metadata": {},
   "outputs": [],
   "source": [
    "angry = pd.read_csv('../../data/continuous_rehydrated/interim_data/angry_brexit_tweets.csv')"
   ]
  },
  {
   "cell_type": "code",
   "execution_count": 3,
   "metadata": {},
   "outputs": [
    {
     "name": "stdout",
     "output_type": "stream",
     "text": [
      "             id sentiment                                               text\n",
      "0  1.113445e+18     anger  \"Have we left the EU yet?\" \"How will the #UKIP...\n",
      "1  1.113445e+18     anger  Macron, Irish PM urge UK to propose alternativ...\n",
      "2  1.113445e+18     anger  \"I'm absolutely appalled\" - Conservative Iain ...\n",
      "3  1.113445e+18     anger  @SteveBakerHW @Kilsally Steve you're a #brexit...\n",
      "4  1.113445e+18     anger  I look forward to the day the #snp win a secon...\n"
     ]
    }
   ],
   "source": [
    "print(angry.head())"
   ]
  },
  {
   "cell_type": "code",
   "execution_count": 6,
   "metadata": {},
   "outputs": [],
   "source": [
    "angry_ppl = angry[angry.text.str.contains(\"@\", na=False)]\n",
    "#text = re.sub(r'@[A-Za-z0-9]+','', tweet)\n",
    "angry_ppl.head()\n",
    "#angry_ppl.text.astype(str)\n",
    "def find_mentions(text):\n",
    "    return re.findall(r'@[A-Za-z0-9_]+', text)\n",
    "\n",
    "def find_hashtags(text):\n",
    "    return re.findall(r'#[A-Za-z0-9]+', text)\n",
    "\n",
    "mentions = angry_ppl.text.apply(find_mentions)\n",
    "hashtags = angry_ppl.text.apply(find_hashtags)"
   ]
  },
  {
   "cell_type": "code",
   "execution_count": 4,
   "metadata": {},
   "outputs": [],
   "source": [
    "def count_column_values(column):\n",
    "    values = []\n",
    "    for row in column:\n",
    "        values.extend(row)\n",
    "    return pd.Series(values).str.lower().value_counts()"
   ]
  },
  {
   "cell_type": "code",
   "execution_count": 7,
   "metadata": {},
   "outputs": [
    {
     "data": {
      "text/plain": [
       "@theresa_may        58820\n",
       "@uklabour           33749\n",
       "@conservatives      26315\n",
       "@theindgroup        25166\n",
       "@skynews            21873\n",
       "@jeremycorbyn       18065\n",
       "@peoplesvote_uk     17127\n",
       "@nigel_farage       16128\n",
       "@mrjamesob          15775\n",
       "@anna_soubry        15763\n",
       "@eucopresident      13636\n",
       "@thesnp             13112\n",
       "@borisjohnson       12748\n",
       "@bbcnews            12673\n",
       "@bbcr4today         10847\n",
       "@houseofcommons     10646\n",
       "@jacob_rees_mogg     8794\n",
       "@carolecadwalla      7003\n",
       "@liamfox             6957\n",
       "@channel4news        6483\n",
       "dtype: int64"
      ]
     },
     "execution_count": 7,
     "metadata": {},
     "output_type": "execute_result"
    }
   ],
   "source": [
    "mentions = count_column_values(mentions)[0:20]\n",
    "mentions"
   ]
  },
  {
   "cell_type": "code",
   "execution_count": 15,
   "metadata": {},
   "outputs": [
    {
     "data": {
      "text/plain": [
       "Text(0.5, 1.0, 'The most mentioned users in angry tweets')"
      ]
     },
     "execution_count": 15,
     "metadata": {},
     "output_type": "execute_result"
    },
    {
     "data": {
      "image/png": "[encoded data removed]",
      "text/plain": [
       "<Figure size 720x576 with 1 Axes>"
      ]
     },
     "metadata": {},
     "output_type": "display_data"
    }
   ],
   "source": [
    "ax = mentions[0:10].iloc[::-1].plot.barh(figsize=(10,8), zorder=2, width=0.85, color=\"#ff6666\")\n",
    "ax.spines['right'].set_visible(False)\n",
    "ax.spines['top'].set_visible(False)\n",
    "ax.spines['left'].set_visible(False)\n",
    "ax.spines['bottom'].set_visible(False)\n",
    "ax.set_title(\"The most mentioned users in angry tweets\")"
   ]
  },
  {
   "cell_type": "code",
   "execution_count": 7,
   "metadata": {},
   "outputs": [
    {
     "data": {
      "text/plain": [
       "#brexit                 6799\n",
       "#brexitbetrayal         6357\n",
       "#maymustgo              1195\n",
       "#leavemeansleave         553\n",
       "#standup4brexit          356\n",
       "#brexitcrisis            317\n",
       "#nodeal                  306\n",
       "#letsgowto               266\n",
       "#eu                      252\n",
       "#leave                   232\n",
       "#brexitshambles          186\n",
       "#brexitday               169\n",
       "#brexitbetrayalmarch     168\n",
       "#wtobrexit               166\n",
       "#labour                  154\n",
       "#peoplesvote             152\n",
       "#brexitmayhem            150\n",
       "#conservatives           148\n",
       "#uk                      130\n",
       "#marchtoleave            129\n",
       "dtype: int64"
      ]
     },
     "execution_count": 7,
     "metadata": {},
     "output_type": "execute_result"
    }
   ],
   "source": [
    "count_column_values(hashtags)[0:20]"
   ]
  },
  {
   "cell_type": "code",
   "execution_count": 8,
   "metadata": {},
   "outputs": [
    {
     "name": "stderr",
     "output_type": "stream",
     "text": [
      "[nltk_data] Downloading package stopwords to /home/ubuntu/nltk_data...\n",
      "[nltk_data]   Package stopwords is already up-to-date!\n"
     ]
    },
    {
     "data": {
      "text/plain": [
       "True"
      ]
     },
     "execution_count": 8,
     "metadata": {},
     "output_type": "execute_result"
    }
   ],
   "source": [
    "from nltk.corpus import stopwords\n",
    "# You will have to download the set of stop words the first time\n",
    "import nltk\n",
    "nltk.download('stopwords')"
   ]
  },
  {
   "cell_type": "code",
   "execution_count": 9,
   "metadata": {},
   "outputs": [
    {
     "name": "stdout",
     "output_type": "stream",
     "text": [
      "Hmm, surprise surprise @BBCNews giving Margaret Anne Georgiadou, the lady responsible for the 'Revoke Article 50' petition, a very long interview.\n",
      "\n",
      "BBC is EU biased nonsense.\n",
      "\n",
      "#BrexitBetrayal\n",
      "#LeaveMeansLeave \n",
      "#NoDealBrexit\n",
      "#Brexit\n",
      "#MayMustGo\n"
     ]
    },
    {
     "data": {
      "text/plain": [
       "'hmm surprise surprise giving margaret anne georgiadou lady responsible revoke article petition long interview bbc eu biased nonsense brexitbetrayal leavemeansleave nodealbrexit brexit maymustgo'"
      ]
     },
     "execution_count": 9,
     "metadata": {},
     "output_type": "execute_result"
    }
   ],
   "source": [
    "from nltk.tokenize import WordPunctTokenizer\n",
    "tok = WordPunctTokenizer()\n",
    "stop_words = stopwords.words('english')\n",
    "\n",
    "def clean_tweet(tweet):\n",
    "    #screen names\n",
    "    text = re.sub(r'@[A-Za-z0-9]+','', tweet)\n",
    "    # urls\n",
    "    text = re.sub('https?://[A-Za-z0-9./]+','', text)\n",
    "    #remove special characters\n",
    "    letters_only = re.sub(\"[^a-zA-Z]\", \" \", text)\n",
    "    lower_case = letters_only.lower()\n",
    "    # tokenize to words and remove stop words\n",
    "    tokenized_words = tok.tokenize(lower_case)\n",
    "    words = [word for word in tokenized_words if word not in stop_words]\n",
    "    return (\" \".join(words)).strip()\n",
    "\n",
    "\n",
    "print(angry_ppl.text.iloc[10])\n",
    "clean_tweet(angry_ppl.text.iloc[10])"
   ]
  },
  {
   "cell_type": "code",
   "execution_count": 10,
   "metadata": {},
   "outputs": [],
   "source": [
    "def count_keywords(column):\n",
    "    hashtags = []\n",
    "    for row in column:\n",
    "        hashtags.extend(row.split())\n",
    "    return pd.Series(hashtags)"
   ]
  },
  {
   "cell_type": "code",
   "execution_count": 11,
   "metadata": {},
   "outputs": [],
   "source": [
    "res = angry_ppl.text.apply(clean_tweet)"
   ]
  },
  {
   "cell_type": "code",
   "execution_count": 12,
   "metadata": {},
   "outputs": [
    {
     "data": {
      "text/plain": [
       "brexit            8101\n",
       "brexitbetrayal    6357\n",
       "may               3730\n",
       "vote              1807\n",
       "people            1349\n",
       "eu                1303\n",
       "maymustgo         1195\n",
       "resign            1193\n",
       "go                1164\n",
       "th                1142\n",
       "theresa           1114\n",
       "april             1037\n",
       "retweet           1028\n",
       "bigger             989\n",
       "hrs                987\n",
       "sample             984\n",
       "deal               977\n",
       "amp                889\n",
       "leave              865\n",
       "democracy          764\n",
       "dtype: int64"
      ]
     },
     "execution_count": 12,
     "metadata": {},
     "output_type": "execute_result"
    }
   ],
   "source": [
    "count_keywords(res).value_counts()[0:20]"
   ]
  },
  {
   "cell_type": "code",
   "execution_count": null,
   "metadata": {},
   "outputs": [],
   "source": [
    "angry.shape"
   ]
  },
  {
   "cell_type": "code",
   "execution_count": 39,
   "metadata": {},
   "outputs": [
    {
     "data": {
      "image/png": "[encoded data removed]",
      "text/plain": [
       "<Figure size 360x360 with 1 Axes>"
      ]
     },
     "metadata": {},
     "output_type": "display_data"
    }
   ],
   "source": [
    "# plot all tweets timeline\n",
    "# plot angry tweets\n",
    "import matplotlib.pyplot as plt\n",
    "labels = 'Neutral', 'Angry'\n",
    "sizes = [3941653, 1617734]\n",
    "colors = ['#66b3ff', '#ff6666']\n",
    "\n",
    "# Plot\n",
    "plt.pie(sizes, labels=labels, colors=colors,\n",
    "autopct='%1.0f%%', startangle=90)\n",
    "\n",
    "plt.axis('equal')\n",
    "fig = plt.gcf()\n",
    "fig.set_size_inches(5,5)\n",
    "plt.savefig('angry_tweets.png')"
   ]
  }
 ],
 "metadata": {
  "kernelspec": {
   "display_name": "Python 3",
   "language": "python",
   "name": "python3"
  },
  "language_info": {
   "codemirror_mode": {
    "name": "ipython",
    "version": 3
   },
   "file_extension": ".py",
   "mimetype": "text/x-python",
   "name": "python",
   "nbconvert_exporter": "python",
   "pygments_lexer": "ipython3",
   "version": "3.6.7"
  }
 },
 "nbformat": 4,
 "nbformat_minor": 2
}
